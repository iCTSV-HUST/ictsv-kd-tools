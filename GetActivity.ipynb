{
  "cells": [
    {
      "cell_type": "markdown",
      "metadata": {
        "id": "view-in-github",
        "colab_type": "text"
      },
      "source": [
        "<a href=\"https://colab.research.google.com/github/iCTSV-HUST/ictsv-kd-tools/blob/main/GetActivity.ipynb\" target=\"_parent\"><img src=\"https://colab.research.google.com/assets/colab-badge.svg\" alt=\"Open In Colab\"/></a>"
      ]
    },
    {
      "cell_type": "code",
      "execution_count": null,
      "metadata": {
        "id": "GpbBKxX1KF0m"
      },
      "outputs": [],
      "source": [
        "# @title ### Edit các thông tin ở đây { display-mode: \"form\" }\n",
        "start_id = 13807 # @param {type:\"number\"}\n",
        "end_id   = 15000 # @param {type:\"number\"}"
      ]
    },
    {
      "cell_type": "markdown",
      "metadata": {
        "id": "cYnKvHCzD-wY"
      },
      "source": [
        "1. Ấn cái icon \"chìa khóa\" bên trái và thêm/+Add new secret `USER_CODE`, `TOKEN_CODE` (lấy từ UserCode, TokenCode của 1 url ảnh trên ctsv)\n",
        "2. Chỉnh id hoạt động bắt đầu, kết thúc: `start_id`, `end_id` ở trên\n",
        "3. Runtime -> Run all (hoặc Ctrl + F9)\n",
        "4. Đợi cho chạy xong (5p)\n",
        "5. Ấn cái icon \"folder\" bên trái và tải file DanhSachHoatDong.xlsx về\n",
        "\n",
        "Note: File errors.csv chứa id của hoạt động không lấy đc"
      ]
    },
    {
      "cell_type": "markdown",
      "metadata": {
        "id": "dzD5PvLX8NsV"
      },
      "source": [
        "### Code chạy"
      ]
    },
    {
      "cell_type": "markdown",
      "metadata": {
        "id": "k3NfbRS7AMyG"
      },
      "source": [
        "#### Definition"
      ]
    },
    {
      "cell_type": "code",
      "execution_count": null,
      "metadata": {
        "id": "Imeb13mKpoBd"
      },
      "outputs": [],
      "source": [
        "%pip install html2text"
      ]
    },
    {
      "cell_type": "code",
      "execution_count": null,
      "metadata": {
        "id": "IHDVZ81ioR1g"
      },
      "outputs": [],
      "source": [
        "from google.colab import userdata\n",
        "CTSVTokenCode = userdata.get('TOKEN_CODE')\n",
        "CTSVUserNameCode = userdata.get('USER_CODE')\n",
        "\n",
        "import asyncio\n",
        "import aiohttp\n",
        "from aiohttp import ClientSession\n",
        "\n",
        "connector = aiohttp.TCPConnector(limit_per_host=50)\n",
        "custom_client = aiohttp.ClientSession(connector=connector)"
      ]
    },
    {
      "cell_type": "code",
      "execution_count": null,
      "metadata": {
        "id": "vJyTjZ7kownQ"
      },
      "outputs": [],
      "source": [
        "import json\n",
        "import html2text\n",
        "\n",
        "# HTML to Text conversion\n",
        "html_converter = html2text.HTML2Text()\n",
        "html_converter.ignore_images = True\n",
        "html_converter.unicode_snob = True\n",
        "html_converter.ignore_links = False\n",
        "\n",
        "# Error list\n",
        "errored_list = []\n",
        "\n",
        "# Process API Response\n",
        "def process_data(activity_id: int, data):\n",
        "    if data[\"RespCode\"] == 0:\n",
        "        activity = data[\"Activities\"][0]\n",
        "        print(f\"GET {activity_id}: {activity['StartTime']} {activity['FinishTime']} {activity['AName']}\")\n",
        "        activity[\"ADesc\"] = html_converter.handle(activity[\"ADesc\"])\n",
        "        return activity\n",
        "    else:\n",
        "        print(f\"GET {activity_id} failed: {data['RespCode']} {data['RespText']}\")\n",
        "\n",
        "        # 205 Hoạt động không tồn tại\n",
        "        if data[\"RespCode\"] != 205:\n",
        "            errored_list.append(activity_id)\n",
        "\n",
        "        return None\n",
        "\n",
        "# Make API Request\n",
        "async def make_request(session: ClientSession, activity_id: int):\n",
        "    url = \"https://ctsv.hust.edu.vn/api-t/Activity/GetActivityById\"\n",
        "    request_body = {\n",
        "        \"AId\": activity_id,\n",
        "        \"TokenCode\": CTSVTokenCode,\n",
        "        \"UserName\": CTSVUserNameCode\n",
        "    }\n",
        "\n",
        "    try:\n",
        "        async with session.post(url, json=request_body) as response:\n",
        "            if response.status != 200:\n",
        "                raise Exception(f\"HTTP error! Status: {response.status}\")\n",
        "            data = await response.json()\n",
        "\n",
        "            return process_data(activity_id, data)\n",
        "    except Exception as e:\n",
        "        print(f\"Error making request for {activity_id}: {str(e)}\")\n",
        "        return None\n",
        "\n",
        "# Send Multiple Requests Concurrently\n",
        "async def send_requests(start_id: int, end_id: int):\n",
        "    results = []\n",
        "\n",
        "    async with custom_client as session:\n",
        "        tasks = [make_request(session, activity_id) for activity_id in range(start_id, end_id + 1)]\n",
        "        responses = await asyncio.gather(*tasks)\n",
        "\n",
        "        for response in responses:\n",
        "            if response is not None:\n",
        "                results.append(response)\n",
        "\n",
        "        # Save Results to Files\n",
        "        with open('results.json', 'w', encoding='utf-8') as f:\n",
        "            json.dump([activity for activity in results], f, ensure_ascii=False, indent=2)\n",
        "        print(f\"Successfully processed {len(results)} results\")\n",
        "\n",
        "        with open('errors.csv', 'w', encoding='utf-8') as f:\n",
        "            f.write(\"\\n\".join(map(str, errored_list)))\n",
        "        print(f\"Errors written to errors.csv\")\n",
        "\n",
        "    return results"
      ]
    },
    {
      "cell_type": "markdown",
      "metadata": {
        "id": "VveyZE5XAJR1"
      },
      "source": [
        "#### Run code"
      ]
    },
    {
      "cell_type": "code",
      "execution_count": null,
      "metadata": {
        "id": "n9vUFVEz-0-Q"
      },
      "outputs": [],
      "source": [
        "async with aiohttp.ClientSession() as session:\n",
        "    test = await make_request(session, 12584)\n",
        "    if (test == None):\n",
        "        quit()\n",
        "        raise Exception(\"Lỗi Token\")\n",
        "\n",
        "activities = await send_requests(start_id, end_id)\n"
      ]
    },
    {
      "cell_type": "code",
      "execution_count": null,
      "metadata": {
        "id": "EGk45Kmw1DDp"
      },
      "outputs": [],
      "source": [
        "if(len(activities) == 0):\n",
        "    raise Exception(\"EMPTY ACTIVITY LIST. CHECK start_id and end_id.\")"
      ]
    },
    {
      "cell_type": "markdown",
      "metadata": {
        "id": "oCRBYrB_w7-a"
      },
      "source": [
        "### Data Analysis below"
      ]
    },
    {
      "cell_type": "code",
      "execution_count": null,
      "metadata": {
        "id": "IjCJHe-WwyX2"
      },
      "outputs": [],
      "source": [
        "import pandas as pd"
      ]
    },
    {
      "cell_type": "code",
      "execution_count": null,
      "metadata": {
        "id": "zoPm4cuExdd_"
      },
      "outputs": [],
      "source": [
        "df = pd.DataFrame(activities)"
      ]
    },
    {
      "cell_type": "code",
      "execution_count": null,
      "metadata": {
        "id": "JWmwIbadxiJ-"
      },
      "outputs": [],
      "source": [
        "columns_to_remove = ['ACode','GId','AGId','Data','AStatus','UAStatus','ARefId','ACriteriaLst','UserRole','Publish']\n",
        "df_fixed = df.drop(columns=columns_to_remove)\n",
        "df_fixed['CriteriaLst'] = df_fixed['CriteriaLst'].apply(lambda criterias: '\\n'.join([item['CName'] for item in criterias]))\n",
        "df_fixed['Link'] = df_fixed['AId'].apply(lambda x: f\"https://ctsv.hust.edu.vn/#/hoat-dong/{x}/chi-tiet\")\n",
        "\n",
        "# Reordering\n",
        "column_order = [\n",
        "    'AId', 'AName', 'GName','CriteriaLst',\n",
        "    'CreateDate', 'Deadline', 'Link', 'CreateUser',\n",
        "    'StartTime', 'FinishTime', 'ADesc', 'APlace',\n",
        "    'AType', 'AGDesc',\n",
        "    'Avatar',\n",
        "]\n",
        "df_fixed = df_fixed[column_order]\n",
        "\n",
        "# Rename columns\n",
        "df_fixed = df_fixed.rename(columns={\n",
        "    'AName': 'Tên hoạt động',\n",
        "    'AType': 'Loại HĐ',\n",
        "    'ADesc': 'Nội dung',\n",
        "    'StartTime': 'TG bắt đầu',\n",
        "    'FinishTime': 'TG kết thúc',\n",
        "    'APlace': 'Địa điểm',\n",
        "    'GName': 'BTC',\n",
        "    'Deadline': 'Hạn nộp MC',\n",
        "    'CriteriaLst': 'DS tiêu chí',\n",
        "    'CreateDate': 'TG tạo HĐ',\n",
        "    'CreateUser': 'DS kiến nghị'\n",
        "})\n",
        "\n",
        "\n",
        "\n",
        "df_fixed\n"
      ]
    },
    {
      "cell_type": "code",
      "execution_count": null,
      "metadata": {
        "id": "KBpsTlR_xEIJ"
      },
      "outputs": [],
      "source": [
        "df_fixed.to_excel(f\"DanhSachHoatDong{start_id}-{end_id}.xlsx\", index=False)"
      ]
    },
    {
      "cell_type": "code",
      "execution_count": null,
      "metadata": {
        "id": "VIMl_D8EvUsp"
      },
      "outputs": [],
      "source": [
        "df_fixed.to_csv(f\"DanhSachHoatDong{start_id}-{end_id}.csv\", index=False)"
      ]
    },
    {
      "cell_type": "code",
      "execution_count": null,
      "metadata": {
        "id": "i4lYh4eyva0M"
      },
      "outputs": [],
      "source": [
        "df_filtered = df_fixed[df_fixed['BTC'] != \"Ban CTSV\"]\n",
        "print(df_filtered.shape)\n",
        "\n",
        "# Extract AId column to an array\n",
        "filtered_aid_array = df_filtered['AId'].to_list()"
      ]
    }
  ],
  "metadata": {
    "colab": {
      "provenance": [],
      "collapsed_sections": [
        "dzD5PvLX8NsV",
        "oCRBYrB_w7-a"
      ],
      "include_colab_link": true
    },
    "kernelspec": {
      "display_name": "Python 3",
      "name": "python3"
    },
    "language_info": {
      "name": "python"
    }
  },
  "nbformat": 4,
  "nbformat_minor": 0
}