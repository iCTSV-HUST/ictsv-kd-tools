{
  "cells": [
    {
      "cell_type": "markdown",
      "metadata": {
        "id": "view-in-github",
        "colab_type": "text"
      },
      "source": [
        "<a href=\"https://colab.research.google.com/github/iCTSV-HUST/ictsv-kd-tools/blob/main/GetActivity.ipynb\" target=\"_parent\"><img src=\"https://colab.research.google.com/assets/colab-badge.svg\" alt=\"Open In Colab\"/></a>"
      ]
    },
    {
      "cell_type": "code",
      "execution_count": null,
      "metadata": {
        "id": "GpbBKxX1KF0m"
      },
      "outputs": [],
      "source": [
        "# @title ### Edit các thông tin ở đây { display-mode: \"form\" }\n",
        "start_id = 14000 # @param {type:\"number\"}\n",
        "end_id   = 17000 # @param {type:\"number\"}"
      ]
    },
    {
      "cell_type": "markdown",
      "metadata": {
        "id": "cYnKvHCzD-wY"
      },
      "source": [
        "1. Ấn cái icon \"chìa khóa\" bên trái và thêm/+Add new secret `USER_CODE`, `TOKEN_CODE` (lấy từ UserCode, TokenCode của 1 url ảnh trên ctsv). Kích hoạt Notebook Access. Kết quả sẽ như hình:\n",
        "\n",
        "![image.png](data:image/png;base64,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)\n",
        "\n",
        "2. Chỉnh id hoạt động bắt đầu, kết thúc: `start_id`, `end_id` ở trên\n",
        "3. Runtime -> Run all (hoặc Ctrl + F9)\n",
        "4. Đợi cho chạy xong (5p)\n",
        "5. Ấn cái icon \"folder\" bên trái và tải file DanhSachHoatDong.xlsx về\n",
        "\n",
        "Note: File errors.csv chứa id của hoạt động không lấy đc"
      ]
    },
    {
      "cell_type": "markdown",
      "metadata": {
        "id": "dzD5PvLX8NsV"
      },
      "source": [
        "### Code chạy"
      ]
    },
    {
      "cell_type": "markdown",
      "metadata": {
        "id": "k3NfbRS7AMyG"
      },
      "source": [
        "#### Definition"
      ]
    },
    {
      "cell_type": "code",
      "execution_count": null,
      "metadata": {
        "id": "Imeb13mKpoBd"
      },
      "outputs": [],
      "source": [
        "%pip install html2text"
      ]
    },
    {
      "cell_type": "code",
      "execution_count": null,
      "metadata": {
        "id": "IHDVZ81ioR1g"
      },
      "outputs": [],
      "source": [
        "from google.colab import userdata\n",
        "CTSVTokenCode = userdata.get('TOKEN_CODE')\n",
        "CTSVUserNameCode = userdata.get('USER_CODE')\n",
        "\n",
        "import asyncio\n",
        "import aiohttp\n",
        "from aiohttp import ClientSession\n",
        "\n",
        "connector = aiohttp.TCPConnector(limit_per_host=50)\n",
        "custom_client = aiohttp.ClientSession(connector=connector)"
      ]
    },
    {
      "cell_type": "code",
      "execution_count": null,
      "metadata": {
        "id": "vJyTjZ7kownQ"
      },
      "outputs": [],
      "source": [
        "import json\n",
        "import html2text\n",
        "\n",
        "# HTML to Text conversion\n",
        "html_converter = html2text.HTML2Text()\n",
        "html_converter.ignore_images = True\n",
        "html_converter.unicode_snob = True\n",
        "html_converter.ignore_links = False\n",
        "\n",
        "# Error list\n",
        "errored_list = []\n",
        "\n",
        "# Process API Response\n",
        "def process_data(activity_id: int, data):\n",
        "    if data[\"RespCode\"] == 0:\n",
        "        activity = data[\"Activities\"][0]\n",
        "        print(f\"GET {activity_id}: {activity['StartTime']} {activity['FinishTime']} {activity['AName']}\")\n",
        "        activity[\"ADesc\"] = html_converter.handle(activity[\"ADesc\"])\n",
        "        return activity\n",
        "    else:\n",
        "        print(f\"GET {activity_id} failed: {data['RespCode']} {data['RespText']}\")\n",
        "\n",
        "        # 205 Hoạt động không tồn tại\n",
        "        if data[\"RespCode\"] != 205:\n",
        "            errored_list.append(activity_id)\n",
        "\n",
        "        return None\n",
        "\n",
        "# Make API Request\n",
        "async def make_request(session: ClientSession, activity_id: int):\n",
        "    url = \"https://ctsv.hust.edu.vn/api-t/Activity/GetActivityById\"\n",
        "    request_body = {\n",
        "        \"AId\": activity_id,\n",
        "        \"TokenCode\": CTSVTokenCode,\n",
        "        \"UserName\": CTSVUserNameCode\n",
        "    }\n",
        "\n",
        "    try:\n",
        "        async with session.post(url, json=request_body) as response:\n",
        "            if response.status != 200:\n",
        "                raise Exception(f\"HTTP error! Status: {response.status}\")\n",
        "            data = await response.json()\n",
        "\n",
        "            return process_data(activity_id, data)\n",
        "    except Exception as e:\n",
        "        print(f\"Error making request for {activity_id}: {str(e)}\")\n",
        "        return None\n",
        "\n",
        "# Send Multiple Requests Concurrently\n",
        "async def send_requests(start_id: int, end_id: int):\n",
        "    results = []\n",
        "\n",
        "    async with custom_client as session:\n",
        "        tasks = [make_request(session, activity_id) for activity_id in range(start_id, end_id + 1)]\n",
        "        responses = await asyncio.gather(*tasks)\n",
        "\n",
        "        for response in responses:\n",
        "            if response is not None:\n",
        "                results.append(response)\n",
        "\n",
        "        # Save Results to Files\n",
        "        with open('results.json', 'w', encoding='utf-8') as f:\n",
        "            json.dump([activity for activity in results], f, ensure_ascii=False, indent=2)\n",
        "        print(f\"Successfully processed {len(results)} results\")\n",
        "\n",
        "        with open('errors.csv', 'w', encoding='utf-8') as f:\n",
        "            f.write(\"\\n\".join(map(str, errored_list)))\n",
        "        print(f\"Errors written to errors.csv\")\n",
        "\n",
        "    return results"
      ]
    },
    {
      "cell_type": "markdown",
      "metadata": {
        "id": "VveyZE5XAJR1"
      },
      "source": [
        "#### Run code"
      ]
    },
    {
      "cell_type": "code",
      "execution_count": null,
      "metadata": {
        "id": "n9vUFVEz-0-Q",
        "collapsed": true
      },
      "outputs": [],
      "source": [
        "async with aiohttp.ClientSession() as session:\n",
        "    test = await make_request(session, 12584)\n",
        "    if (test == None):\n",
        "        quit()\n",
        "        raise Exception(\"Lỗi Token\")\n",
        "\n",
        "activities = await send_requests(start_id, end_id)\n"
      ]
    },
    {
      "cell_type": "code",
      "execution_count": null,
      "metadata": {
        "id": "EGk45Kmw1DDp"
      },
      "outputs": [],
      "source": [
        "if(len(activities) == 0):\n",
        "    raise Exception(\"EMPTY ACTIVITY LIST. CHECK start_id and end_id.\")"
      ]
    },
    {
      "cell_type": "markdown",
      "metadata": {
        "id": "oCRBYrB_w7-a"
      },
      "source": [
        "### Data Analysis below"
      ]
    },
    {
      "cell_type": "code",
      "execution_count": null,
      "metadata": {
        "id": "IjCJHe-WwyX2"
      },
      "outputs": [],
      "source": [
        "import pandas as pd"
      ]
    },
    {
      "cell_type": "code",
      "execution_count": null,
      "metadata": {
        "id": "zoPm4cuExdd_"
      },
      "outputs": [],
      "source": [
        "df = pd.DataFrame(activities)"
      ]
    },
    {
      "cell_type": "code",
      "execution_count": null,
      "metadata": {
        "id": "JWmwIbadxiJ-"
      },
      "outputs": [],
      "source": [
        "columns_to_remove = ['ACode','GId','AGId','Data','AStatus','UAStatus','ARefId','ACriteriaLst','UserRole','Publish']\n",
        "df_fixed = df.drop(columns=columns_to_remove)\n",
        "df_fixed['CriteriaLst'] = df_fixed['CriteriaLst'].apply(lambda criterias: '\\n'.join([item['CName'] for item in criterias]))\n",
        "df_fixed['Link'] = df_fixed['AId'].apply(lambda x: f\"https://ctsv.hust.edu.vn/#/hoat-dong/{x}/chi-tiet\")\n",
        "\n",
        "# Reordering\n",
        "column_order = [\n",
        "    'AId', 'AName', 'GName','CriteriaLst',\n",
        "    'CreateDate', 'Deadline', 'Link', 'CreateUser',\n",
        "    'StartTime', 'FinishTime', 'ADesc', 'APlace',\n",
        "    'AType', 'AGDesc',\n",
        "    'Avatar',\n",
        "]\n",
        "df_fixed = df_fixed[column_order]\n",
        "\n",
        "# Rename columns\n",
        "df_fixed = df_fixed.rename(columns={\n",
        "    'AName': 'Tên hoạt động',\n",
        "    'AType': 'Loại HĐ',\n",
        "    'ADesc': 'Nội dung',\n",
        "    'StartTime': 'TG bắt đầu',\n",
        "    'FinishTime': 'TG kết thúc',\n",
        "    'APlace': 'Địa điểm',\n",
        "    'GName': 'BTC',\n",
        "    'Deadline': 'Hạn nộp MC',\n",
        "    'CriteriaLst': 'DS tiêu chí',\n",
        "    'CreateDate': 'TG tạo HĐ',\n",
        "    'CreateUser': 'DS kiến nghị'\n",
        "})\n",
        "\n",
        "\n",
        "\n",
        "df_fixed\n"
      ]
    },
    {
      "cell_type": "code",
      "execution_count": null,
      "metadata": {
        "id": "KBpsTlR_xEIJ"
      },
      "outputs": [],
      "source": [
        "df_fixed.to_excel(f\"DanhSachHoatDong{start_id}-{end_id}.xlsx\", index=False)"
      ]
    },
    {
      "cell_type": "code",
      "execution_count": null,
      "metadata": {
        "id": "VIMl_D8EvUsp"
      },
      "outputs": [],
      "source": [
        "df_fixed.to_csv(f\"DanhSachHoatDong{start_id}-{end_id}.csv\", index=False)"
      ]
    },
    {
      "cell_type": "code",
      "execution_count": null,
      "metadata": {
        "id": "i4lYh4eyva0M"
      },
      "outputs": [],
      "source": [
        "df_filtered = df_fixed[df_fixed['BTC'] != \"Ban CTSV\"]\n",
        "print(df_filtered.shape)\n",
        "\n",
        "# Extract AId column to an array\n",
        "filtered_aid_array = df_filtered['AId'].to_list()"
      ]
    }
  ],
  "metadata": {
    "colab": {
      "provenance": [],
      "collapsed_sections": [
        "dzD5PvLX8NsV",
        "oCRBYrB_w7-a"
      ],
      "include_colab_link": true
    },
    "kernelspec": {
      "display_name": "Python 3",
      "name": "python3"
    },
    "language_info": {
      "name": "python"
    }
  },
  "nbformat": 4,
  "nbformat_minor": 0
}