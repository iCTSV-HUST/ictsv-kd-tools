{
 "cells": [
  {
   "cell_type": "markdown",
   "id": "ab587bbf-bc6c-4508-bbdb-9f68a782063f",
   "metadata": {},
   "source": [
    "### Input file name here"
   ]
  },
  {
   "cell_type": "code",
   "execution_count": 45,
   "id": "902985ec-87e3-4efb-9702-bdbf09dc41cf",
   "metadata": {},
   "outputs": [],
   "source": [
    "filename = 'AttendeeReport.csv'\n",
    "input_starting_time = '3/7/2025 9:00:00 AM'\n",
    "input_ending_time = '3/7/2025 10:52:00 AM'"
   ]
  },
  {
   "cell_type": "markdown",
   "id": "0d71df55-5d0f-4a46-a799-d1ed1fad9f15",
   "metadata": {},
   "source": [
    "### Code running (calculating duration)"
   ]
  },
  {
   "cell_type": "code",
   "execution_count": 55,
   "id": "99c3481c-a5ec-4c29-9090-d187f551bf8b",
   "metadata": {},
   "outputs": [],
   "source": [
    "import polars as pl\n",
    "from datetime import datetime, timedelta, timezone"
   ]
  },
  {
   "cell_type": "code",
   "execution_count": 56,
   "id": "46a09794-bc28-4fc8-8431-883d968c964a",
   "metadata": {},
   "outputs": [],
   "source": [
    "# Parse time & set timezone UTC+7\n",
    "ending_time = (datetime\n",
    "    .strptime(input_ending_time, \"%m/%d/%Y %I:%M:%S %p\")\n",
    "    .replace(tzinfo=timezone(timedelta(hours=7)))\n",
    ")"
   ]
  },
  {
   "cell_type": "code",
   "execution_count": 57,
   "id": "178aee8c-b8a8-46fb-ae6d-1ceb5ebdc610",
   "metadata": {},
   "outputs": [
    {
     "data": {
      "text/html": [
       "<div><style>\n",
       ".dataframe > thead > tr,\n",
       ".dataframe > tbody > tr {\n",
       "  text-align: right;\n",
       "  white-space: pre-wrap;\n",
       "}\n",
       "</style>\n",
       "<small>shape: (2_160, 7)</small><table border=\"1\" class=\"dataframe\"><thead><tr><th>id</th><th>email</th><th>name</th><th>user_agent</th><th>timestamp</th><th>action</th><th>role</th></tr><tr><td>str</td><td>str</td><td>str</td><td>str</td><td>datetime[μs, Asia/Ho_Chi_Minh]</td><td>str</td><td>str</td></tr></thead><tbody><tr><td>&quot;be6789ac-cff9-4391-9b20-f17238…</td><td>&quot;An.DTH2410000@sis.hust.edu.vn&quot;</td><td>&quot;Dao Thi Ha An 202410000&quot;</td><td>&quot;Mozilla/5.0 (iPhone; CPU iPhon…</td><td>2025-03-07 10:45:52 +07</td><td>&quot;Joined&quot;</td><td>&quot;Attendee&quot;</td></tr><tr><td>&quot;be6789ac-cff9-4391-9b20-f17238…</td><td>&quot;An.DTH2410000@sis.hust.edu.vn&quot;</td><td>&quot;Dao Thi Ha An 202410000&quot;</td><td>&quot;Mozilla/5.0 (iPhone; CPU iPhon…</td><td>2025-03-07 11:12:32 +07</td><td>&quot;Left&quot;</td><td>&quot;Attendee&quot;</td></tr><tr><td>&quot;fb225999-3098-485b-91f4-fc9e51…</td><td>&quot;An.DTH2410000@sis.hust.edu.vn&quot;</td><td>&quot;Dao Thi Ha An 202410000&quot;</td><td>&quot;Mozilla/5.0&quot;</td><td>2025-03-07 09:18:53 +07</td><td>&quot;Joined&quot;</td><td>&quot;Attendee&quot;</td></tr><tr><td>&quot;fb225999-3098-485b-91f4-fc9e51…</td><td>&quot;An.DTH2410000@sis.hust.edu.vn&quot;</td><td>&quot;Dao Thi Ha An 202410000&quot;</td><td>&quot;Mozilla/5.0 (iPhone; CPU iPhon…</td><td>2025-03-07 10:37:16 +07</td><td>&quot;Left&quot;</td><td>&quot;Attendee&quot;</td></tr><tr><td>&quot;17e7bc42-ee19-468b-a1b4-ccde44…</td><td>&quot;An.LT2412859@sis.hust.edu.vn&quot;</td><td>&quot;Le Thai An 202412859&quot;</td><td>&quot;Mozilla/5.0 (iPhone; CPU iPhon…</td><td>2025-03-07 09:10:21 +07</td><td>&quot;Joined&quot;</td><td>&quot;Attendee&quot;</td></tr><tr><td>&hellip;</td><td>&hellip;</td><td>&hellip;</td><td>&hellip;</td><td>&hellip;</td><td>&hellip;</td><td>&hellip;</td></tr><tr><td>&quot;555a4332-f0b9-4466-8525-23d2aa…</td><td>&quot;Yen.NH2419910@sis.hust.edu.vn&quot;</td><td>&quot;Nguyen Hai Yen 202419910&quot;</td><td>&quot;Mozilla/5.0&quot;</td><td>2025-03-07 09:25:16 +07</td><td>&quot;Joined&quot;</td><td>&quot;Attendee&quot;</td></tr><tr><td>&quot;9380b31a-9c9a-4905-871e-e1e2bb…</td><td>&quot;Yen.NH2419910@sis.hust.edu.vn&quot;</td><td>&quot;Nguyen Hai Yen 202419910&quot;</td><td>&quot;Mozilla/5.0 (iPhone; CPU iPhon…</td><td>2025-03-07 09:30:19 +07</td><td>&quot;Joined&quot;</td><td>&quot;Attendee&quot;</td></tr><tr><td>&quot;9380b31a-9c9a-4905-871e-e1e2bb…</td><td>&quot;Yen.NH2419910@sis.hust.edu.vn&quot;</td><td>&quot;Nguyen Hai Yen 202419910&quot;</td><td>&quot;Mozilla/5.0 (iPhone; CPU iPhon…</td><td>2025-03-07 09:31:51 +07</td><td>&quot;Left&quot;</td><td>&quot;Attendee&quot;</td></tr><tr><td>&quot;9b5e7f54-9580-4ea0-84fd-a6d0ed…</td><td>&quot;Yen.NTH2420365@sis.hust.edu.vn&quot;</td><td>&quot;Ngo Thi Hai Yen 202420365&quot;</td><td>&quot;Mozilla/5.0&quot;</td><td>2025-03-07 09:24:56 +07</td><td>&quot;Joined&quot;</td><td>&quot;Attendee&quot;</td></tr><tr><td>&quot;9b5e7f54-9580-4ea0-84fd-a6d0ed…</td><td>&quot;Yen.NTH2420365@sis.hust.edu.vn&quot;</td><td>&quot;Ngo Thi Hai Yen 202420365&quot;</td><td>&quot;Mozilla/5.0 (Linux; Android 10…</td><td>2025-03-07 09:28:30 +07</td><td>&quot;Left&quot;</td><td>&quot;Attendee&quot;</td></tr></tbody></table></div>"
      ],
      "text/plain": [
       "shape: (2_160, 7)\n",
       "┌───────────────────┬───────────────────┬───────────────────┬───────────────────┬──────────────────┬────────┬──────────┐\n",
       "│ id                ┆ email             ┆ name              ┆ user_agent        ┆ timestamp        ┆ action ┆ role     │\n",
       "│ ---               ┆ ---               ┆ ---               ┆ ---               ┆ ---              ┆ ---    ┆ ---      │\n",
       "│ str               ┆ str               ┆ str               ┆ str               ┆ datetime[μs, Asi ┆ str    ┆ str      │\n",
       "│                   ┆                   ┆                   ┆                   ┆ a/Ho_Chi_Minh]   ┆        ┆          │\n",
       "╞═══════════════════╪═══════════════════╪═══════════════════╪═══════════════════╪══════════════════╪════════╪══════════╡\n",
       "│ be6789ac-cff9-439 ┆ An.DTH2410000@sis ┆ Dao Thi Ha An     ┆ Mozilla/5.0       ┆ 2025-03-07       ┆ Joined ┆ Attendee │\n",
       "│ 1-9b20-f17238…    ┆ .hust.edu.vn      ┆ 202410000         ┆ (iPhone; CPU      ┆ 10:45:52 +07     ┆        ┆          │\n",
       "│                   ┆                   ┆                   ┆ iPhon…            ┆                  ┆        ┆          │\n",
       "│ be6789ac-cff9-439 ┆ An.DTH2410000@sis ┆ Dao Thi Ha An     ┆ Mozilla/5.0       ┆ 2025-03-07       ┆ Left   ┆ Attendee │\n",
       "│ 1-9b20-f17238…    ┆ .hust.edu.vn      ┆ 202410000         ┆ (iPhone; CPU      ┆ 11:12:32 +07     ┆        ┆          │\n",
       "│                   ┆                   ┆                   ┆ iPhon…            ┆                  ┆        ┆          │\n",
       "│ fb225999-3098-485 ┆ An.DTH2410000@sis ┆ Dao Thi Ha An     ┆ Mozilla/5.0       ┆ 2025-03-07       ┆ Joined ┆ Attendee │\n",
       "│ b-91f4-fc9e51…    ┆ .hust.edu.vn      ┆ 202410000         ┆                   ┆ 09:18:53 +07     ┆        ┆          │\n",
       "│ fb225999-3098-485 ┆ An.DTH2410000@sis ┆ Dao Thi Ha An     ┆ Mozilla/5.0       ┆ 2025-03-07       ┆ Left   ┆ Attendee │\n",
       "│ b-91f4-fc9e51…    ┆ .hust.edu.vn      ┆ 202410000         ┆ (iPhone; CPU      ┆ 10:37:16 +07     ┆        ┆          │\n",
       "│                   ┆                   ┆                   ┆ iPhon…            ┆                  ┆        ┆          │\n",
       "│ 17e7bc42-ee19-468 ┆ An.LT2412859@sis. ┆ Le Thai An        ┆ Mozilla/5.0       ┆ 2025-03-07       ┆ Joined ┆ Attendee │\n",
       "│ b-a1b4-ccde44…    ┆ hust.edu.vn       ┆ 202412859         ┆ (iPhone; CPU      ┆ 09:10:21 +07     ┆        ┆          │\n",
       "│                   ┆                   ┆                   ┆ iPhon…            ┆                  ┆        ┆          │\n",
       "│ …                 ┆ …                 ┆ …                 ┆ …                 ┆ …                ┆ …      ┆ …        │\n",
       "│ 555a4332-f0b9-446 ┆ Yen.NH2419910@sis ┆ Nguyen Hai Yen    ┆ Mozilla/5.0       ┆ 2025-03-07       ┆ Joined ┆ Attendee │\n",
       "│ 6-8525-23d2aa…    ┆ .hust.edu.vn      ┆ 202419910         ┆                   ┆ 09:25:16 +07     ┆        ┆          │\n",
       "│ 9380b31a-9c9a-490 ┆ Yen.NH2419910@sis ┆ Nguyen Hai Yen    ┆ Mozilla/5.0       ┆ 2025-03-07       ┆ Joined ┆ Attendee │\n",
       "│ 5-871e-e1e2bb…    ┆ .hust.edu.vn      ┆ 202419910         ┆ (iPhone; CPU      ┆ 09:30:19 +07     ┆        ┆          │\n",
       "│                   ┆                   ┆                   ┆ iPhon…            ┆                  ┆        ┆          │\n",
       "│ 9380b31a-9c9a-490 ┆ Yen.NH2419910@sis ┆ Nguyen Hai Yen    ┆ Mozilla/5.0       ┆ 2025-03-07       ┆ Left   ┆ Attendee │\n",
       "│ 5-871e-e1e2bb…    ┆ .hust.edu.vn      ┆ 202419910         ┆ (iPhone; CPU      ┆ 09:31:51 +07     ┆        ┆          │\n",
       "│                   ┆                   ┆                   ┆ iPhon…            ┆                  ┆        ┆          │\n",
       "│ 9b5e7f54-9580-4ea ┆ Yen.NTH2420365@si ┆ Ngo Thi Hai Yen   ┆ Mozilla/5.0       ┆ 2025-03-07       ┆ Joined ┆ Attendee │\n",
       "│ 0-84fd-a6d0ed…    ┆ s.hust.edu.vn     ┆ 202420365         ┆                   ┆ 09:24:56 +07     ┆        ┆          │\n",
       "│ 9b5e7f54-9580-4ea ┆ Yen.NTH2420365@si ┆ Ngo Thi Hai Yen   ┆ Mozilla/5.0       ┆ 2025-03-07       ┆ Left   ┆ Attendee │\n",
       "│ 0-84fd-a6d0ed…    ┆ s.hust.edu.vn     ┆ 202420365         ┆ (Linux; Android   ┆ 09:28:30 +07     ┆        ┆          │\n",
       "│                   ┆                   ┆                   ┆ 10…               ┆                  ┆        ┆          │\n",
       "└───────────────────┴───────────────────┴───────────────────┴───────────────────┴──────────────────┴────────┴──────────┘"
      ]
     },
     "execution_count": 57,
     "metadata": {},
     "output_type": "execute_result"
    }
   ],
   "source": [
    "df = pl.read_csv(filename).rename({\n",
    "    'Session Id': 'id',\n",
    "    'Participant Id': 'email',\n",
    "    'Full Name': 'name',\n",
    "    'UserAgent': 'user_agent',\n",
    "    'UTC Event Timestamp': 'timestamp',\n",
    "    'Action': 'action',\n",
    "    'Role': 'role'\n",
    "}).with_columns(\n",
    "    pl.col('timestamp')\n",
    "        .str.strptime(pl.Datetime, format='%m/%d/%Y %I:%M:%S %p')\n",
    "        .dt.convert_time_zone('Asia/Ho_Chi_Minh')\n",
    ").sort(\n",
    "    by=['email','id', 'timestamp']\n",
    ")\n",
    "\n",
    "df"
   ]
  },
  {
   "cell_type": "code",
   "execution_count": 58,
   "id": "1a3863b1-0a7e-44b8-a7aa-36f18810ec32",
   "metadata": {},
   "outputs": [
    {
     "data": {
      "text/html": [
       "<div><style>\n",
       ".dataframe > thead > tr,\n",
       ".dataframe > tbody > tr {\n",
       "  text-align: right;\n",
       "  white-space: pre-wrap;\n",
       "}\n",
       "</style>\n",
       "<small>shape: (172, 2)</small><table border=\"1\" class=\"dataframe\"><thead><tr><th>id</th><th>count</th></tr><tr><td>str</td><td>u32</td></tr></thead><tbody><tr><td>&quot;78c7845a-524d-4f72-810c-48ba32…</td><td>1</td></tr><tr><td>&quot;b5bc9106-8989-47d2-ba77-681bfc…</td><td>1</td></tr><tr><td>&quot;bdea21e0-fbb5-4a01-bbdb-a7ab65…</td><td>1</td></tr><tr><td>&quot;7850dbe6-c773-4ddf-8038-2ff45d…</td><td>1</td></tr><tr><td>&quot;d47d1096-f148-4392-a8b0-f358fd…</td><td>1</td></tr><tr><td>&hellip;</td><td>&hellip;</td></tr><tr><td>&quot;24bfebc2-d325-4e77-8975-6799a6…</td><td>1</td></tr><tr><td>&quot;cbb7feaa-9968-48c5-b0e9-e51646…</td><td>1</td></tr><tr><td>&quot;ad5c9bd4-e03e-48fa-b04d-3cbd7c…</td><td>1</td></tr><tr><td>&quot;3e4a023e-95ad-4e05-82e3-d88d15…</td><td>1</td></tr><tr><td>&quot;8c053a64-d717-4593-9795-ab10da…</td><td>1</td></tr></tbody></table></div>"
      ],
      "text/plain": [
       "shape: (172, 2)\n",
       "┌─────────────────────────────────┬───────┐\n",
       "│ id                              ┆ count │\n",
       "│ ---                             ┆ ---   │\n",
       "│ str                             ┆ u32   │\n",
       "╞═════════════════════════════════╪═══════╡\n",
       "│ 78c7845a-524d-4f72-810c-48ba32… ┆ 1     │\n",
       "│ b5bc9106-8989-47d2-ba77-681bfc… ┆ 1     │\n",
       "│ bdea21e0-fbb5-4a01-bbdb-a7ab65… ┆ 1     │\n",
       "│ 7850dbe6-c773-4ddf-8038-2ff45d… ┆ 1     │\n",
       "│ d47d1096-f148-4392-a8b0-f358fd… ┆ 1     │\n",
       "│ …                               ┆ …     │\n",
       "│ 24bfebc2-d325-4e77-8975-6799a6… ┆ 1     │\n",
       "│ cbb7feaa-9968-48c5-b0e9-e51646… ┆ 1     │\n",
       "│ ad5c9bd4-e03e-48fa-b04d-3cbd7c… ┆ 1     │\n",
       "│ 3e4a023e-95ad-4e05-82e3-d88d15… ┆ 1     │\n",
       "│ 8c053a64-d717-4593-9795-ab10da… ┆ 1     │\n",
       "└─────────────────────────────────┴───────┘"
      ]
     },
     "execution_count": 58,
     "metadata": {},
     "output_type": "execute_result"
    }
   ],
   "source": [
    "error_entry_sessions = df.group_by('id').agg(pl.len().alias('count')).filter(pl.col('count') != 2)\n",
    "df_filtered = df.join(error_entry_sessions, on='id', how='anti')\n",
    "\n",
    "error_entry_sessions"
   ]
  },
  {
   "cell_type": "code",
   "execution_count": 59,
   "id": "0232d8c9-1a97-4d0d-a0da-c8d681f2b082",
   "metadata": {},
   "outputs": [
    {
     "data": {
      "text/html": [
       "<div><style>\n",
       ".dataframe > thead > tr,\n",
       ".dataframe > tbody > tr {\n",
       "  text-align: right;\n",
       "  white-space: pre-wrap;\n",
       "}\n",
       "</style>\n",
       "<small>shape: (994, 6)</small><table border=\"1\" class=\"dataframe\"><thead><tr><th>id</th><th>name</th><th>email</th><th>join_time</th><th>leave_time</th><th>duration</th></tr><tr><td>str</td><td>str</td><td>str</td><td>datetime[μs, Asia/Ho_Chi_Minh]</td><td>datetime[μs, Asia/Ho_Chi_Minh]</td><td>duration[μs]</td></tr></thead><tbody><tr><td>&quot;001cbea3-e2bb-427d-8da4-9fc622…</td><td>&quot;Truong Quang Thai 20224139&quot;</td><td>&quot;Thai.TQ224139@sis.hust.edu.vn&quot;</td><td>2025-03-07 09:54:49 +07</td><td>2025-03-07 10:49:31 +07</td><td>54m 42s</td></tr><tr><td>&quot;002a27b2-537c-4478-b676-e8e841…</td><td>&quot;Phuong Xuan Ngoc Linh 20241372…</td><td>&quot;Linh.PXN2413720@sis.hust.edu.v…</td><td>2025-03-07 09:08:20 +07</td><td>2025-03-07 09:18:22 +07</td><td>10m 2s</td></tr><tr><td>&quot;00dc363e-ba12-414a-ac50-fcabc9…</td><td>&quot;Nguyen Hoang Tung 202414596&quot;</td><td>&quot;Tung.NH2414596@sis.hust.edu.vn&quot;</td><td>2025-03-07 09:11:44 +07</td><td>2025-03-07 10:06:09 +07</td><td>54m 25s</td></tr><tr><td>&quot;013706ad-fb1d-41e8-980d-045be5…</td><td>&quot;Nguyen Van The 202418988&quot;</td><td>&quot;The.NV2418988@sis.hust.edu.vn&quot;</td><td>2025-03-07 10:15:53 +07</td><td>2025-03-07 10:51:38 +07</td><td>35m 45s</td></tr><tr><td>&quot;014037ea-c777-4228-9877-cca377…</td><td>&quot;Vu Ngoc Gia Han 202415555&quot;</td><td>&quot;Han.VNG2415555@sis.hust.edu.vn&quot;</td><td>2025-03-07 10:24:41 +07</td><td>2025-03-07 10:57:34 +07</td><td>32m 53s</td></tr><tr><td>&hellip;</td><td>&hellip;</td><td>&hellip;</td><td>&hellip;</td><td>&hellip;</td><td>&hellip;</td></tr><tr><td>&quot;feae5aa3-80a0-418a-a6fa-3b7a5f…</td><td>&quot;Ha Phuong Thao 20233808&quot;</td><td>&quot;Thao.HP233808@sis.hust.edu.vn&quot;</td><td>2025-03-07 09:39:02 +07</td><td>2025-03-07 09:53:00 +07</td><td>13m 58s</td></tr><tr><td>&quot;ff2cb8aa-9581-4d47-9d7d-44ab01…</td><td>&quot;Nguyen Thao Linh 20223388&quot;</td><td>&quot;Linh.NT223388@sis.hust.edu.vn&quot;</td><td>2025-03-07 10:04:07 +07</td><td>2025-03-07 10:12:48 +07</td><td>8m 41s</td></tr><tr><td>&quot;ff8e4f6a-c968-4d19-bc5f-51e8dd…</td><td>&quot;Le Anh Duc 20233324&quot;</td><td>&quot;Duc.LA233324@sis.hust.edu.vn&quot;</td><td>2025-03-07 09:25:06 +07</td><td>2025-03-07 10:51:54 +07</td><td>1h 26m 48s</td></tr><tr><td>&quot;ffb35f1b-5b6c-4154-9a2f-83cb82…</td><td>&quot;Dinh Hoang Tung 202410613&quot;</td><td>&quot;Tung.DH2410613@sis.hust.edu.vn&quot;</td><td>2025-03-07 09:13:39 +07</td><td>2025-03-07 09:52:47 +07</td><td>39m 8s</td></tr><tr><td>&quot;fff697bb-2a22-4adc-a71d-955b47…</td><td>&quot;Nguyen Dong Anh 202419979&quot;</td><td>&quot;Anh.ND2419979@sis.hust.edu.vn&quot;</td><td>2025-03-07 09:28:14 +07</td><td>2025-03-07 10:53:49 +07</td><td>1h 25m 35s</td></tr></tbody></table></div>"
      ],
      "text/plain": [
       "shape: (994, 6)\n",
       "┌────────────────────┬────────────────────┬────────────────────┬────────────────────┬───────────────────┬──────────────┐\n",
       "│ id                 ┆ name               ┆ email              ┆ join_time          ┆ leave_time        ┆ duration     │\n",
       "│ ---                ┆ ---                ┆ ---                ┆ ---                ┆ ---               ┆ ---          │\n",
       "│ str                ┆ str                ┆ str                ┆ datetime[μs,       ┆ datetime[μs,      ┆ duration[μs] │\n",
       "│                    ┆                    ┆                    ┆ Asia/Ho_Chi_Minh]  ┆ Asia/Ho_Chi_Minh] ┆              │\n",
       "╞════════════════════╪════════════════════╪════════════════════╪════════════════════╪═══════════════════╪══════════════╡\n",
       "│ 001cbea3-e2bb-427d ┆ Truong Quang Thai  ┆ Thai.TQ224139@sis. ┆ 2025-03-07         ┆ 2025-03-07        ┆ 54m 42s      │\n",
       "│ -8da4-9fc622…      ┆ 20224139           ┆ hust.edu.vn        ┆ 09:54:49 +07       ┆ 10:49:31 +07      ┆              │\n",
       "│ 002a27b2-537c-4478 ┆ Phuong Xuan Ngoc   ┆ Linh.PXN2413720@si ┆ 2025-03-07         ┆ 2025-03-07        ┆ 10m 2s       │\n",
       "│ -b676-e8e841…      ┆ Linh 20241372…     ┆ s.hust.edu.v…      ┆ 09:08:20 +07       ┆ 09:18:22 +07      ┆              │\n",
       "│ 00dc363e-ba12-414a ┆ Nguyen Hoang Tung  ┆ Tung.NH2414596@sis ┆ 2025-03-07         ┆ 2025-03-07        ┆ 54m 25s      │\n",
       "│ -ac50-fcabc9…      ┆ 202414596          ┆ .hust.edu.vn       ┆ 09:11:44 +07       ┆ 10:06:09 +07      ┆              │\n",
       "│ 013706ad-fb1d-41e8 ┆ Nguyen Van The     ┆ The.NV2418988@sis. ┆ 2025-03-07         ┆ 2025-03-07        ┆ 35m 45s      │\n",
       "│ -980d-045be5…      ┆ 202418988          ┆ hust.edu.vn        ┆ 10:15:53 +07       ┆ 10:51:38 +07      ┆              │\n",
       "│ 014037ea-c777-4228 ┆ Vu Ngoc Gia Han    ┆ Han.VNG2415555@sis ┆ 2025-03-07         ┆ 2025-03-07        ┆ 32m 53s      │\n",
       "│ -9877-cca377…      ┆ 202415555          ┆ .hust.edu.vn       ┆ 10:24:41 +07       ┆ 10:57:34 +07      ┆              │\n",
       "│ …                  ┆ …                  ┆ …                  ┆ …                  ┆ …                 ┆ …            │\n",
       "│ feae5aa3-80a0-418a ┆ Ha Phuong Thao     ┆ Thao.HP233808@sis. ┆ 2025-03-07         ┆ 2025-03-07        ┆ 13m 58s      │\n",
       "│ -a6fa-3b7a5f…      ┆ 20233808           ┆ hust.edu.vn        ┆ 09:39:02 +07       ┆ 09:53:00 +07      ┆              │\n",
       "│ ff2cb8aa-9581-4d47 ┆ Nguyen Thao Linh   ┆ Linh.NT223388@sis. ┆ 2025-03-07         ┆ 2025-03-07        ┆ 8m 41s       │\n",
       "│ -9d7d-44ab01…      ┆ 20223388           ┆ hust.edu.vn        ┆ 10:04:07 +07       ┆ 10:12:48 +07      ┆              │\n",
       "│ ff8e4f6a-c968-4d19 ┆ Le Anh Duc         ┆ Duc.LA233324@sis.h ┆ 2025-03-07         ┆ 2025-03-07        ┆ 1h 26m 48s   │\n",
       "│ -bc5f-51e8dd…      ┆ 20233324           ┆ ust.edu.vn         ┆ 09:25:06 +07       ┆ 10:51:54 +07      ┆              │\n",
       "│ ffb35f1b-5b6c-4154 ┆ Dinh Hoang Tung    ┆ Tung.DH2410613@sis ┆ 2025-03-07         ┆ 2025-03-07        ┆ 39m 8s       │\n",
       "│ -9a2f-83cb82…      ┆ 202410613          ┆ .hust.edu.vn       ┆ 09:13:39 +07       ┆ 09:52:47 +07      ┆              │\n",
       "│ fff697bb-2a22-4adc ┆ Nguyen Dong Anh    ┆ Anh.ND2419979@sis. ┆ 2025-03-07         ┆ 2025-03-07        ┆ 1h 25m 35s   │\n",
       "│ -a71d-955b47…      ┆ 202419979          ┆ hust.edu.vn        ┆ 09:28:14 +07       ┆ 10:53:49 +07      ┆              │\n",
       "└────────────────────┴────────────────────┴────────────────────┴────────────────────┴───────────────────┴──────────────┘"
      ]
     },
     "execution_count": 59,
     "metadata": {},
     "output_type": "execute_result"
    }
   ],
   "source": [
    "sessions = (\n",
    "    df_filtered.sort(['id', 'timestamp'])\n",
    "    .group_by('id')\n",
    "    .agg(\n",
    "        pl.col('name').first().alias('name'),\n",
    "        pl.col('email').first().alias('email'),\n",
    "        pl.col('timestamp').filter(pl.col('action') == 'Joined').first().alias('join_time'),\n",
    "        pl.col('timestamp').filter(pl.col('action') == 'Left').first().alias('leave_time')\n",
    "    )\n",
    "    .with_columns(\n",
    "        (pl.col('leave_time') - pl.col('join_time')).alias('duration')\n",
    "    )\n",
    ")\n",
    "\n",
    "sessions"
   ]
  },
  {
   "cell_type": "code",
   "execution_count": 60,
   "id": "ae7c823e-b15a-4f4c-8571-223ac13e4479",
   "metadata": {},
   "outputs": [],
   "source": [
    "def merge_intervals(intervals):\n",
    "    # Sort intervals by start time\n",
    "    sorted_intervals = sorted(intervals, key=lambda x: x['join_time'])\n",
    "    \n",
    "    if not sorted_intervals:\n",
    "        return timedelta(seconds=0)\n",
    "    \n",
    "    merged = [sorted_intervals[0]]\n",
    "    for current in sorted_intervals[1:]:\n",
    "        previous = merged[-1]\n",
    "        if current['join_time'] <= previous['leave_time']:\n",
    "            merged[-1] = {\n",
    "                'join_time': previous['join_time'], \n",
    "                'leave_time': max(previous['leave_time'], current['leave_time'])\n",
    "            }\n",
    "        else:\n",
    "            merged.append(current)\n",
    "    \n",
    "    # Calculate total duration using timedelta objects\n",
    "    total_seconds = 0\n",
    "    for interval in merged:\n",
    "        start = interval['join_time']\n",
    "        end = interval['leave_time']\n",
    "        \n",
    "        # If ending_time is specified and is before the end of this interval,\n",
    "        # truncate the interval at ending_time\n",
    "        if ending_time is not None and end > ending_time:\n",
    "            end = ending_time\n",
    "        \n",
    "        # If ending_time is before the start of this interval, skip the whole calculation\n",
    "        if ending_time is not None and start >= ending_time:\n",
    "            continue\n",
    "            \n",
    "        total_seconds += (end - start).total_seconds()\n",
    "        \n",
    "    return timedelta(seconds=total_seconds)"
   ]
  },
  {
   "cell_type": "code",
   "execution_count": 61,
   "id": "9b6bfd3f-c5c1-40f4-948a-e7b17b93a09b",
   "metadata": {},
   "outputs": [],
   "source": [
    "result = (\n",
    "    # Group by email to process each person\n",
    "    sessions\n",
    "    .group_by('email')\n",
    "    .agg(\n",
    "        pl.col('name').first().alias('name'),\n",
    "        \n",
    "        # Output all intervals as struct array\n",
    "        pl.struct(['join_time', 'leave_time']).alias('intervals'),\n",
    "        pl.concat_str([\n",
    "            pl.col('join_time').dt.time().cast(pl.Utf8),\n",
    "            pl.lit(' - '),\n",
    "            pl.col('leave_time').dt.time().cast(pl.Utf8)            \n",
    "        ]).alias('formatted_intervals')\n",
    "    )\n",
    "    .with_columns(\n",
    "        pl.col('intervals').map_elements(merge_intervals, return_dtype=pl.Duration).alias('total_non_overlapping_duration'),\n",
    "        pl.col('formatted_intervals')\n",
    "            .list.eval(pl.format('<{}>', pl.element()))\n",
    "            .list.join('')\n",
    "    )\n",
    "    .rename({'formatted_intervals':'formatted_intervals (UTC+7)'})\n",
    "    .sort('total_non_overlapping_duration')\n",
    ")"
   ]
  },
  {
   "cell_type": "code",
   "execution_count": 62,
   "id": "3684c615-7fd6-4512-a5cf-4383847e308b",
   "metadata": {},
   "outputs": [
    {
     "data": {
      "text/html": [
       "<div><style>\n",
       ".dataframe > thead > tr,\n",
       ".dataframe > tbody > tr {\n",
       "  text-align: right;\n",
       "  white-space: pre-wrap;\n",
       "}\n",
       "</style>\n",
       "<small>shape: (613, 4)</small><table border=\"1\" class=\"dataframe\"><thead><tr><th>email</th><th>name</th><th>formatted_intervals (UTC+7)</th><th>duration_in_seconds</th></tr><tr><td>str</td><td>str</td><td>str</td><td>i64</td></tr></thead><tbody><tr><td>&quot;Anh.NN235013@sis.hust.edu.vn&quot;</td><td>&quot;Nguyen Ngoc Anh 20235013&quot;</td><td>&quot;&lt;09:32:24 - 09:32:55&gt;&quot;</td><td>31</td></tr><tr><td>&quot;Thanh.HX236321@sis.hust.edu.vn&quot;</td><td>&quot;Ha Xuan Thanh 20236321&quot;</td><td>&quot;&lt;10:36:01 - 10:36:39&gt;&quot;</td><td>38</td></tr><tr><td>&quot;Anh.HHT2417284@sis.hust.edu.vn&quot;</td><td>&quot;Ha Huy Tuan Anh 202417284&quot;</td><td>&quot;&lt;09:19:48 - 09:20:27&gt;&quot;</td><td>39</td></tr><tr><td>&quot;Son.BT2421574@sis.hust.edu.vn&quot;</td><td>&quot;Bui Thanh Son 202421574&quot;</td><td>&quot;&lt;09:37:49 - 09:38:30&gt;&quot;</td><td>41</td></tr><tr><td>&quot;Dung.TA2420073@sis.hust.edu.vn&quot;</td><td>&quot;Tran Anh Dung 202420073&quot;</td><td>&quot;&lt;08:53:58 - 08:54:40&gt;&quot;</td><td>42</td></tr><tr><td>&hellip;</td><td>&hellip;</td><td>&hellip;</td><td>&hellip;</td></tr><tr><td>&quot;Ngan.LTH234509@sis.hust.edu.vn&quot;</td><td>&quot;Le Thi Hong Ngan 20234509&quot;</td><td>&quot;&lt;09:37:15 - 11:00:36&gt;&lt;08:54:24…</td><td>7034</td></tr><tr><td>&quot;Hung.VS2417128@sis.hust.edu.vn&quot;</td><td>&quot;Vu Sinh Hung 202417128&quot;</td><td>&quot;&lt;08:57:32 - 10:52:19&gt;&lt;08:54:16…</td><td>7060</td></tr><tr><td>&quot;Duy.NQ235065@sis.hust.edu.vn&quot;</td><td>&quot;Nguyen Quy Duy 20235065&quot;</td><td>&quot;&lt;08:52:58 - 10:54:04&gt;&quot;</td><td>7142</td></tr><tr><td>&quot;Huyen.NT223148@sis.hust.edu.vn&quot;</td><td>&quot;Nguyen Thanh Huyen 20223148&quot;</td><td>&quot;&lt;08:51:35 - 10:58:08&gt;&quot;</td><td>7225</td></tr><tr><td>&quot;Dung.DM236508@sis.hust.edu.vn&quot;</td><td>&quot;Duong Manh Dung 20236508&quot;</td><td>&quot;&lt;08:39:17 - 10:55:34&gt;&lt;08:43:18…</td><td>7963</td></tr></tbody></table></div>"
      ],
      "text/plain": [
       "shape: (613, 4)\n",
       "┌────────────────────────────────┬─────────────────────────────┬─────────────────────────────────┬─────────────────────┐\n",
       "│ email                          ┆ name                        ┆ formatted_intervals (UTC+7)     ┆ duration_in_seconds │\n",
       "│ ---                            ┆ ---                         ┆ ---                             ┆ ---                 │\n",
       "│ str                            ┆ str                         ┆ str                             ┆ i64                 │\n",
       "╞════════════════════════════════╪═════════════════════════════╪═════════════════════════════════╪═════════════════════╡\n",
       "│ Anh.NN235013@sis.hust.edu.vn   ┆ Nguyen Ngoc Anh 20235013    ┆ <09:32:24 - 09:32:55>           ┆ 31                  │\n",
       "│ Thanh.HX236321@sis.hust.edu.vn ┆ Ha Xuan Thanh 20236321      ┆ <10:36:01 - 10:36:39>           ┆ 38                  │\n",
       "│ Anh.HHT2417284@sis.hust.edu.vn ┆ Ha Huy Tuan Anh 202417284   ┆ <09:19:48 - 09:20:27>           ┆ 39                  │\n",
       "│ Son.BT2421574@sis.hust.edu.vn  ┆ Bui Thanh Son 202421574     ┆ <09:37:49 - 09:38:30>           ┆ 41                  │\n",
       "│ Dung.TA2420073@sis.hust.edu.vn ┆ Tran Anh Dung 202420073     ┆ <08:53:58 - 08:54:40>           ┆ 42                  │\n",
       "│ …                              ┆ …                           ┆ …                               ┆ …                   │\n",
       "│ Ngan.LTH234509@sis.hust.edu.vn ┆ Le Thi Hong Ngan 20234509   ┆ <09:37:15 - 11:00:36><08:54:24… ┆ 7034                │\n",
       "│ Hung.VS2417128@sis.hust.edu.vn ┆ Vu Sinh Hung 202417128      ┆ <08:57:32 - 10:52:19><08:54:16… ┆ 7060                │\n",
       "│ Duy.NQ235065@sis.hust.edu.vn   ┆ Nguyen Quy Duy 20235065     ┆ <08:52:58 - 10:54:04>           ┆ 7142                │\n",
       "│ Huyen.NT223148@sis.hust.edu.vn ┆ Nguyen Thanh Huyen 20223148 ┆ <08:51:35 - 10:58:08>           ┆ 7225                │\n",
       "│ Dung.DM236508@sis.hust.edu.vn  ┆ Duong Manh Dung 20236508    ┆ <08:39:17 - 10:55:34><08:43:18… ┆ 7963                │\n",
       "└────────────────────────────────┴─────────────────────────────┴─────────────────────────────────┴─────────────────────┘"
      ]
     },
     "execution_count": 62,
     "metadata": {},
     "output_type": "execute_result"
    }
   ],
   "source": [
    "result_formatted = (\n",
    "    result\n",
    "    .with_columns(\n",
    "        (pl.col(\"total_non_overlapping_duration\") / 1_000_000).cast(pl.Int64).alias(\"duration_in_seconds\")\n",
    "    )\n",
    "    .drop(['intervals', 'total_non_overlapping_duration'])\n",
    ")\n",
    "\n",
    "result_formatted"
   ]
  },
  {
   "cell_type": "code",
   "execution_count": 64,
   "id": "733c7ef0-138d-4507-a65e-6e8c3474dd47",
   "metadata": {},
   "outputs": [],
   "source": [
    "result_formatted.write_csv(f\"Duration_Output_{filename.replace('.csv', '')}.csv\")"
   ]
  },
  {
   "cell_type": "code",
   "execution_count": null,
   "id": "0b48e49f-aebb-4361-ba0f-04cd97087d66",
   "metadata": {},
   "outputs": [],
   "source": []
  }
 ],
 "metadata": {
  "kernelspec": {
   "display_name": "Python 3 (ipykernel)",
   "language": "python",
   "name": "python3"
  },
  "language_info": {
   "codemirror_mode": {
    "name": "ipython",
    "version": 3
   },
   "file_extension": ".py",
   "mimetype": "text/x-python",
   "name": "python",
   "nbconvert_exporter": "python",
   "pygments_lexer": "ipython3",
   "version": "3.13.2"
  }
 },
 "nbformat": 4,
 "nbformat_minor": 5
}
