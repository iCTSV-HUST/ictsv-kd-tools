{
  "cells": [
    {
      "cell_type": "code",
      "execution_count": null,
      "id": "902985ec-87e3-4efb-9702-bdbf09dc41cf",
      "metadata": {
        "id": "902985ec-87e3-4efb-9702-bdbf09dc41cf"
      },
      "outputs": [],
      "source": [
        "# @title Upload file 'AttendeeReport.csv'\n",
        "from google.colab import files\n",
        "uploaded = files.upload()"
      ]
    },
    {
      "cell_type": "code",
      "source": [
        "# @title Nhập thời gian bắt đầu, kết thúc\n",
        "ngay = \"2025-03-07\" # @param {\"type\":\"date\"}\n",
        "bat_dau = '9:00:00' # @param {\"type\":\"string\",\"placeholder\":\"9:00:00\"}\n",
        "ket_thuc = '10:52:00' # @param {\"type\":\"string\",\"placeholder\":\"10:00:00\"}\n"
      ],
      "metadata": {
        "cellView": "form",
        "id": "zNCux8KHJUov"
      },
      "id": "zNCux8KHJUov",
      "execution_count": null,
      "outputs": []
    },
    {
      "cell_type": "code",
      "source": [
        "print(f\"Bắt đầu: {ngay} - {bat_dau}\")\n",
        "print(f\"Kết thúc: {ngay} - {ket_thuc}\")"
      ],
      "metadata": {
        "id": "hDLfK0c2J7XQ",
        "outputId": "c7e8f8fa-dd63-43c2-d8b7-9b2365834eb5",
        "colab": {
          "base_uri": "https://localhost:8080/"
        }
      },
      "id": "hDLfK0c2J7XQ",
      "execution_count": null,
      "outputs": [
        {
          "output_type": "stream",
          "name": "stdout",
          "text": [
            "Bắt đầu: 2025-03-07 - 9:00:00\n",
            "Kết thúc: 2025-03-07 - 10:52:00\n"
          ]
        }
      ]
    },
    {
      "cell_type": "markdown",
      "id": "0d71df55-5d0f-4a46-a799-d1ed1fad9f15",
      "metadata": {
        "id": "0d71df55-5d0f-4a46-a799-d1ed1fad9f15"
      },
      "source": [
        "### Code running (calculating duration)"
      ]
    },
    {
      "cell_type": "code",
      "execution_count": null,
      "id": "99c3481c-a5ec-4c29-9090-d187f551bf8b",
      "metadata": {
        "id": "99c3481c-a5ec-4c29-9090-d187f551bf8b"
      },
      "outputs": [],
      "source": [
        "import polars as pl\n",
        "from datetime import datetime, timedelta, timezone"
      ]
    },
    {
      "cell_type": "code",
      "source": [
        "filename = 'AttendeeReport.csv'"
      ],
      "metadata": {
        "id": "AJJcLHZxLkDS"
      },
      "id": "AJJcLHZxLkDS",
      "execution_count": null,
      "outputs": []
    },
    {
      "cell_type": "code",
      "execution_count": null,
      "id": "46a09794-bc28-4fc8-8431-883d968c964a",
      "metadata": {
        "id": "46a09794-bc28-4fc8-8431-883d968c964a"
      },
      "outputs": [],
      "source": [
        "# Parse time & set timezone UTC+7\n",
        "ending_datetime = datetime.combine(\n",
        "    datetime.strptime(ngay, \"%Y-%m-%d\").date(),\n",
        "    datetime.strptime(ket_thuc, \"%H:%M:%S\").time()\n",
        ").replace(tzinfo=timezone(timedelta(hours=7)))"
      ]
    },
    {
      "cell_type": "code",
      "execution_count": null,
      "id": "178aee8c-b8a8-46fb-ae6d-1ceb5ebdc610",
      "metadata": {
        "id": "178aee8c-b8a8-46fb-ae6d-1ceb5ebdc610"
      },
      "outputs": [],
      "source": [
        "df = pl.read_csv(filename).rename({\n",
        "    'Session Id': 'id',\n",
        "    'Participant Id': 'email',\n",
        "    'Full Name': 'name',\n",
        "    'UserAgent': 'user_agent',\n",
        "    'UTC Event Timestamp': 'timestamp',\n",
        "    'Action': 'action',\n",
        "    'Role': 'role'\n",
        "}).with_columns(\n",
        "    pl.col('timestamp')\n",
        "        .str.strptime(pl.Datetime, format='%m/%d/%Y %I:%M:%S %p')\n",
        "        .dt.convert_time_zone('Asia/Ho_Chi_Minh')\n",
        ").sort(\n",
        "    by=['email','id', 'timestamp']\n",
        ")\n",
        "\n",
        "df"
      ]
    },
    {
      "cell_type": "code",
      "execution_count": null,
      "id": "1a3863b1-0a7e-44b8-a7aa-36f18810ec32",
      "metadata": {
        "id": "1a3863b1-0a7e-44b8-a7aa-36f18810ec32"
      },
      "outputs": [],
      "source": [
        "error_entry_sessions = df.group_by('id').agg(pl.len().alias('count')).filter(pl.col('count') != 2)\n",
        "df_filtered = df.join(error_entry_sessions, on='id', how='anti')\n",
        "\n",
        "error_entry_sessions"
      ]
    },
    {
      "cell_type": "code",
      "execution_count": null,
      "id": "0232d8c9-1a97-4d0d-a0da-c8d681f2b082",
      "metadata": {
        "id": "0232d8c9-1a97-4d0d-a0da-c8d681f2b082"
      },
      "outputs": [],
      "source": [
        "sessions = (\n",
        "    df_filtered.sort(['id', 'timestamp'])\n",
        "    .group_by('id')\n",
        "    .agg(\n",
        "        pl.col('name').first().alias('name'),\n",
        "        pl.col('email').first().alias('email'),\n",
        "        pl.col('timestamp').filter(pl.col('action') == 'Joined').first().alias('join_time'),\n",
        "        pl.col('timestamp').filter(pl.col('action') == 'Left').first().alias('leave_time')\n",
        "    )\n",
        "    .with_columns(\n",
        "        (pl.col('leave_time') - pl.col('join_time')).alias('duration')\n",
        "    )\n",
        ")\n",
        "\n",
        "sessions"
      ]
    },
    {
      "cell_type": "code",
      "execution_count": null,
      "id": "ae7c823e-b15a-4f4c-8571-223ac13e4479",
      "metadata": {
        "id": "ae7c823e-b15a-4f4c-8571-223ac13e4479"
      },
      "outputs": [],
      "source": [
        "def merge_intervals(intervals):\n",
        "    # Sort intervals by start time\n",
        "    sorted_intervals = sorted(intervals, key=lambda x: x['join_time'])\n",
        "\n",
        "    if not sorted_intervals:\n",
        "        return timedelta(seconds=0)\n",
        "\n",
        "    merged = [sorted_intervals[0]]\n",
        "    for current in sorted_intervals[1:]:\n",
        "        previous = merged[-1]\n",
        "        if current['join_time'] <= previous['leave_time']:\n",
        "            merged[-1] = {\n",
        "                'join_time': previous['join_time'],\n",
        "                'leave_time': max(previous['leave_time'], current['leave_time'])\n",
        "            }\n",
        "        else:\n",
        "            merged.append(current)\n",
        "\n",
        "    # Calculate total duration using timedelta objects\n",
        "    total_seconds = 0\n",
        "    for interval in merged:\n",
        "        start = interval['join_time']\n",
        "        end = interval['leave_time']\n",
        "\n",
        "        # If ending_datetime is specified and is before the end of this interval,\n",
        "        # truncate the interval at ending_datetime\n",
        "        if ending_datetime is not None and end > ending_datetime:\n",
        "            end = ending_datetime\n",
        "\n",
        "        # If ending_datetime is before the start of this interval, skip the whole calculation\n",
        "        if ending_datetime is not None and start >= ending_datetime:\n",
        "            continue\n",
        "\n",
        "        total_seconds += (end - start).total_seconds()\n",
        "\n",
        "    return timedelta(seconds=total_seconds)"
      ]
    },
    {
      "cell_type": "code",
      "execution_count": null,
      "id": "9b6bfd3f-c5c1-40f4-948a-e7b17b93a09b",
      "metadata": {
        "id": "9b6bfd3f-c5c1-40f4-948a-e7b17b93a09b"
      },
      "outputs": [],
      "source": [
        "result = (\n",
        "    # Group by email to process each person\n",
        "    sessions\n",
        "    .group_by('email')\n",
        "    .agg(\n",
        "        pl.col('name').first().alias('name'),\n",
        "\n",
        "        # Output all intervals as struct array\n",
        "        pl.struct(['join_time', 'leave_time']).alias('intervals'),\n",
        "        pl.concat_str([\n",
        "            pl.col('join_time').dt.time().cast(pl.Utf8),\n",
        "            pl.lit(' - '),\n",
        "            pl.col('leave_time').dt.time().cast(pl.Utf8)\n",
        "        ]).alias('formatted_intervals')\n",
        "    )\n",
        "    .with_columns(\n",
        "        pl.col('intervals').map_elements(merge_intervals, return_dtype=pl.Duration).alias('total_non_overlapping_duration'),\n",
        "        pl.col('formatted_intervals')\n",
        "            .list.eval(pl.format('<{}>', pl.element()))\n",
        "            .list.join('')\n",
        "    )\n",
        "    .rename({'formatted_intervals':'formatted_intervals (UTC+7)'})\n",
        "    .sort('total_non_overlapping_duration')\n",
        ")"
      ]
    },
    {
      "cell_type": "code",
      "execution_count": null,
      "id": "3684c615-7fd6-4512-a5cf-4383847e308b",
      "metadata": {
        "id": "3684c615-7fd6-4512-a5cf-4383847e308b"
      },
      "outputs": [],
      "source": [
        "result_formatted = (\n",
        "    result\n",
        "    .with_columns(\n",
        "        (pl.col(\"total_non_overlapping_duration\") / 1_000_000).cast(pl.Int64).alias(\"duration_seconds\"),\n",
        "    )\n",
        "    .with_columns(\n",
        "        (\n",
        "          (pl.col(\"duration_seconds\") // 3600).cast(pl.Utf8).str.zfill(2) + \":\" +\n",
        "          ((pl.col(\"duration_seconds\") % 3600) // 60).cast(pl.Utf8).str.zfill(2) + \":\" +\n",
        "          (pl.col(\"duration_seconds\") % 60).cast(pl.Utf8).str.zfill(2)\n",
        "        ).alias(\"formatted_time\")\n",
        "    )\n",
        "    .drop(['intervals', 'total_non_overlapping_duration'])\n",
        "    .rename({\n",
        "        'email': 'Email',\n",
        "        'name': 'Name',\n",
        "        'formatted_intervals (UTC+7)': 'Sessions (UTC+7)',\n",
        "        'duration_seconds': 'Total time (seconds)',\n",
        "        'formatted_time': 'Total time',\n",
        "    })\n",
        ")\n",
        "\n",
        "result_formatted"
      ]
    },
    {
      "cell_type": "code",
      "execution_count": null,
      "id": "733c7ef0-138d-4507-a65e-6e8c3474dd47",
      "metadata": {
        "id": "733c7ef0-138d-4507-a65e-6e8c3474dd47"
      },
      "outputs": [],
      "source": [
        "result_formatted.write_csv(f\"Tính_TG_{ngay}.csv\")"
      ]
    },
    {
      "cell_type": "code",
      "execution_count": null,
      "id": "0b48e49f-aebb-4361-ba0f-04cd97087d66",
      "metadata": {
        "id": "0b48e49f-aebb-4361-ba0f-04cd97087d66"
      },
      "outputs": [],
      "source": []
    }
  ],
  "metadata": {
    "kernelspec": {
      "display_name": "Python 3 (ipykernel)",
      "language": "python",
      "name": "python3"
    },
    "language_info": {
      "codemirror_mode": {
        "name": "ipython",
        "version": 3
      },
      "file_extension": ".py",
      "mimetype": "text/x-python",
      "name": "python",
      "nbconvert_exporter": "python",
      "pygments_lexer": "ipython3",
      "version": "3.13.2"
    },
    "colab": {
      "provenance": []
    }
  },
  "nbformat": 4,
  "nbformat_minor": 5
}