{
 "cells": [
  {
   "cell_type": "markdown",
   "id": "ab587bbf-bc6c-4508-bbdb-9f68a782063f",
   "metadata": {},
   "source": [
    "### Input file name here"
   ]
  },
  {
   "cell_type": "code",
   "execution_count": 77,
   "id": "902985ec-87e3-4efb-9702-bdbf09dc41cf",
   "metadata": {},
   "outputs": [],
   "source": [
    "filename = 'AttendeeReport.csv'"
   ]
  },
  {
   "cell_type": "markdown",
   "id": "0d71df55-5d0f-4a46-a799-d1ed1fad9f15",
   "metadata": {},
   "source": [
    "### Code running (calculating duration)"
   ]
  },
  {
   "cell_type": "code",
   "execution_count": 78,
   "id": "99c3481c-a5ec-4c29-9090-d187f551bf8b",
   "metadata": {},
   "outputs": [],
   "source": [
    "import polars as pl\n",
    "from datetime import datetime, timedelta"
   ]
  },
  {
   "cell_type": "code",
   "execution_count": 79,
   "id": "178aee8c-b8a8-46fb-ae6d-1ceb5ebdc610",
   "metadata": {},
   "outputs": [
    {
     "data": {
      "text/html": [
       "<div><style>\n",
       ".dataframe > thead > tr,\n",
       ".dataframe > tbody > tr {\n",
       "  text-align: right;\n",
       "  white-space: pre-wrap;\n",
       "}\n",
       "</style>\n",
       "<small>shape: (2_160, 7)</small><table border=\"1\" class=\"dataframe\"><thead><tr><th>id</th><th>email</th><th>name</th><th>user_agent</th><th>timestamp</th><th>action</th><th>role</th></tr><tr><td>str</td><td>str</td><td>str</td><td>str</td><td>datetime[μs]</td><td>str</td><td>str</td></tr></thead><tbody><tr><td>&quot;be6789ac-cff9-4391-9b20-f17238…</td><td>&quot;An.DTH2410000@sis.hust.edu.vn&quot;</td><td>&quot;Dao Thi Ha An 202410000&quot;</td><td>&quot;Mozilla/5.0 (iPhone; CPU iPhon…</td><td>2025-03-07 03:45:52</td><td>&quot;Joined&quot;</td><td>&quot;Attendee&quot;</td></tr><tr><td>&quot;be6789ac-cff9-4391-9b20-f17238…</td><td>&quot;An.DTH2410000@sis.hust.edu.vn&quot;</td><td>&quot;Dao Thi Ha An 202410000&quot;</td><td>&quot;Mozilla/5.0 (iPhone; CPU iPhon…</td><td>2025-03-07 04:12:32</td><td>&quot;Left&quot;</td><td>&quot;Attendee&quot;</td></tr><tr><td>&quot;fb225999-3098-485b-91f4-fc9e51…</td><td>&quot;An.DTH2410000@sis.hust.edu.vn&quot;</td><td>&quot;Dao Thi Ha An 202410000&quot;</td><td>&quot;Mozilla/5.0&quot;</td><td>2025-03-07 02:18:53</td><td>&quot;Joined&quot;</td><td>&quot;Attendee&quot;</td></tr><tr><td>&quot;fb225999-3098-485b-91f4-fc9e51…</td><td>&quot;An.DTH2410000@sis.hust.edu.vn&quot;</td><td>&quot;Dao Thi Ha An 202410000&quot;</td><td>&quot;Mozilla/5.0 (iPhone; CPU iPhon…</td><td>2025-03-07 03:37:16</td><td>&quot;Left&quot;</td><td>&quot;Attendee&quot;</td></tr><tr><td>&quot;17e7bc42-ee19-468b-a1b4-ccde44…</td><td>&quot;An.LT2412859@sis.hust.edu.vn&quot;</td><td>&quot;Le Thai An 202412859&quot;</td><td>&quot;Mozilla/5.0 (iPhone; CPU iPhon…</td><td>2025-03-07 02:10:21</td><td>&quot;Joined&quot;</td><td>&quot;Attendee&quot;</td></tr><tr><td>&hellip;</td><td>&hellip;</td><td>&hellip;</td><td>&hellip;</td><td>&hellip;</td><td>&hellip;</td><td>&hellip;</td></tr><tr><td>&quot;555a4332-f0b9-4466-8525-23d2aa…</td><td>&quot;Yen.NH2419910@sis.hust.edu.vn&quot;</td><td>&quot;Nguyen Hai Yen 202419910&quot;</td><td>&quot;Mozilla/5.0&quot;</td><td>2025-03-07 02:25:16</td><td>&quot;Joined&quot;</td><td>&quot;Attendee&quot;</td></tr><tr><td>&quot;9380b31a-9c9a-4905-871e-e1e2bb…</td><td>&quot;Yen.NH2419910@sis.hust.edu.vn&quot;</td><td>&quot;Nguyen Hai Yen 202419910&quot;</td><td>&quot;Mozilla/5.0 (iPhone; CPU iPhon…</td><td>2025-03-07 02:30:19</td><td>&quot;Joined&quot;</td><td>&quot;Attendee&quot;</td></tr><tr><td>&quot;9380b31a-9c9a-4905-871e-e1e2bb…</td><td>&quot;Yen.NH2419910@sis.hust.edu.vn&quot;</td><td>&quot;Nguyen Hai Yen 202419910&quot;</td><td>&quot;Mozilla/5.0 (iPhone; CPU iPhon…</td><td>2025-03-07 02:31:51</td><td>&quot;Left&quot;</td><td>&quot;Attendee&quot;</td></tr><tr><td>&quot;9b5e7f54-9580-4ea0-84fd-a6d0ed…</td><td>&quot;Yen.NTH2420365@sis.hust.edu.vn&quot;</td><td>&quot;Ngo Thi Hai Yen 202420365&quot;</td><td>&quot;Mozilla/5.0&quot;</td><td>2025-03-07 02:24:56</td><td>&quot;Joined&quot;</td><td>&quot;Attendee&quot;</td></tr><tr><td>&quot;9b5e7f54-9580-4ea0-84fd-a6d0ed…</td><td>&quot;Yen.NTH2420365@sis.hust.edu.vn&quot;</td><td>&quot;Ngo Thi Hai Yen 202420365&quot;</td><td>&quot;Mozilla/5.0 (Linux; Android 10…</td><td>2025-03-07 02:28:30</td><td>&quot;Left&quot;</td><td>&quot;Attendee&quot;</td></tr></tbody></table></div>"
      ],
      "text/plain": [
       "shape: (2_160, 7)\n",
       "┌─────────────────────┬─────────────────────┬─────────────────┬─────────────────────┬──────────────┬────────┬──────────┐\n",
       "│ id                  ┆ email               ┆ name            ┆ user_agent          ┆ timestamp    ┆ action ┆ role     │\n",
       "│ ---                 ┆ ---                 ┆ ---             ┆ ---                 ┆ ---          ┆ ---    ┆ ---      │\n",
       "│ str                 ┆ str                 ┆ str             ┆ str                 ┆ datetime[μs] ┆ str    ┆ str      │\n",
       "╞═════════════════════╪═════════════════════╪═════════════════╪═════════════════════╪══════════════╪════════╪══════════╡\n",
       "│ be6789ac-cff9-4391- ┆ An.DTH2410000@sis.h ┆ Dao Thi Ha An   ┆ Mozilla/5.0         ┆ 2025-03-07   ┆ Joined ┆ Attendee │\n",
       "│ 9b20-f17238…        ┆ ust.edu.vn          ┆ 202410000       ┆ (iPhone; CPU iPhon… ┆ 03:45:52     ┆        ┆          │\n",
       "│ be6789ac-cff9-4391- ┆ An.DTH2410000@sis.h ┆ Dao Thi Ha An   ┆ Mozilla/5.0         ┆ 2025-03-07   ┆ Left   ┆ Attendee │\n",
       "│ 9b20-f17238…        ┆ ust.edu.vn          ┆ 202410000       ┆ (iPhone; CPU iPhon… ┆ 04:12:32     ┆        ┆          │\n",
       "│ fb225999-3098-485b- ┆ An.DTH2410000@sis.h ┆ Dao Thi Ha An   ┆ Mozilla/5.0         ┆ 2025-03-07   ┆ Joined ┆ Attendee │\n",
       "│ 91f4-fc9e51…        ┆ ust.edu.vn          ┆ 202410000       ┆                     ┆ 02:18:53     ┆        ┆          │\n",
       "│ fb225999-3098-485b- ┆ An.DTH2410000@sis.h ┆ Dao Thi Ha An   ┆ Mozilla/5.0         ┆ 2025-03-07   ┆ Left   ┆ Attendee │\n",
       "│ 91f4-fc9e51…        ┆ ust.edu.vn          ┆ 202410000       ┆ (iPhone; CPU iPhon… ┆ 03:37:16     ┆        ┆          │\n",
       "│ 17e7bc42-ee19-468b- ┆ An.LT2412859@sis.hu ┆ Le Thai An      ┆ Mozilla/5.0         ┆ 2025-03-07   ┆ Joined ┆ Attendee │\n",
       "│ a1b4-ccde44…        ┆ st.edu.vn           ┆ 202412859       ┆ (iPhone; CPU iPhon… ┆ 02:10:21     ┆        ┆          │\n",
       "│ …                   ┆ …                   ┆ …               ┆ …                   ┆ …            ┆ …      ┆ …        │\n",
       "│ 555a4332-f0b9-4466- ┆ Yen.NH2419910@sis.h ┆ Nguyen Hai Yen  ┆ Mozilla/5.0         ┆ 2025-03-07   ┆ Joined ┆ Attendee │\n",
       "│ 8525-23d2aa…        ┆ ust.edu.vn          ┆ 202419910       ┆                     ┆ 02:25:16     ┆        ┆          │\n",
       "│ 9380b31a-9c9a-4905- ┆ Yen.NH2419910@sis.h ┆ Nguyen Hai Yen  ┆ Mozilla/5.0         ┆ 2025-03-07   ┆ Joined ┆ Attendee │\n",
       "│ 871e-e1e2bb…        ┆ ust.edu.vn          ┆ 202419910       ┆ (iPhone; CPU iPhon… ┆ 02:30:19     ┆        ┆          │\n",
       "│ 9380b31a-9c9a-4905- ┆ Yen.NH2419910@sis.h ┆ Nguyen Hai Yen  ┆ Mozilla/5.0         ┆ 2025-03-07   ┆ Left   ┆ Attendee │\n",
       "│ 871e-e1e2bb…        ┆ ust.edu.vn          ┆ 202419910       ┆ (iPhone; CPU iPhon… ┆ 02:31:51     ┆        ┆          │\n",
       "│ 9b5e7f54-9580-4ea0- ┆ Yen.NTH2420365@sis. ┆ Ngo Thi Hai Yen ┆ Mozilla/5.0         ┆ 2025-03-07   ┆ Joined ┆ Attendee │\n",
       "│ 84fd-a6d0ed…        ┆ hust.edu.vn         ┆ 202420365       ┆                     ┆ 02:24:56     ┆        ┆          │\n",
       "│ 9b5e7f54-9580-4ea0- ┆ Yen.NTH2420365@sis. ┆ Ngo Thi Hai Yen ┆ Mozilla/5.0 (Linux; ┆ 2025-03-07   ┆ Left   ┆ Attendee │\n",
       "│ 84fd-a6d0ed…        ┆ hust.edu.vn         ┆ 202420365       ┆ Android 10…         ┆ 02:28:30     ┆        ┆          │\n",
       "└─────────────────────┴─────────────────────┴─────────────────┴─────────────────────┴──────────────┴────────┴──────────┘"
      ]
     },
     "execution_count": 79,
     "metadata": {},
     "output_type": "execute_result"
    }
   ],
   "source": [
    "df = pl.read_csv(filename).rename({\n",
    "    'Session Id': 'id',\n",
    "    'Participant Id': 'email',\n",
    "    'Full Name': 'name',\n",
    "    'UserAgent': 'user_agent',\n",
    "    'UTC Event Timestamp': 'timestamp',\n",
    "    'Action': 'action',\n",
    "    'Role': 'role'\n",
    "}).with_columns(\n",
    "    pl.col('timestamp').str.strptime(pl.Datetime, format='%m/%d/%Y %I:%M:%S %p')\n",
    ").sort(\n",
    "    by=['email','id', 'timestamp']\n",
    ")\n",
    "\n",
    "df"
   ]
  },
  {
   "cell_type": "code",
   "execution_count": 80,
   "id": "1a3863b1-0a7e-44b8-a7aa-36f18810ec32",
   "metadata": {},
   "outputs": [
    {
     "data": {
      "text/html": [
       "<div><style>\n",
       ".dataframe > thead > tr,\n",
       ".dataframe > tbody > tr {\n",
       "  text-align: right;\n",
       "  white-space: pre-wrap;\n",
       "}\n",
       "</style>\n",
       "<small>shape: (172, 2)</small><table border=\"1\" class=\"dataframe\"><thead><tr><th>id</th><th>count</th></tr><tr><td>str</td><td>u32</td></tr></thead><tbody><tr><td>&quot;3597ae5d-21ed-418b-83e5-1d5d18…</td><td>1</td></tr><tr><td>&quot;1e7f76e4-23e3-4853-b462-92a531…</td><td>1</td></tr><tr><td>&quot;36e7d376-319d-4676-9e21-e25c66…</td><td>1</td></tr><tr><td>&quot;989c8797-13d3-4362-9de9-5e4ed2…</td><td>1</td></tr><tr><td>&quot;57bf59fa-b7bd-409a-9962-4d4620…</td><td>1</td></tr><tr><td>&hellip;</td><td>&hellip;</td></tr><tr><td>&quot;a5b09975-cd9c-4d61-80f9-02e472…</td><td>1</td></tr><tr><td>&quot;5255e18d-4ec0-48be-989c-0cce18…</td><td>1</td></tr><tr><td>&quot;eb2422d9-d902-4a02-941e-44ac31…</td><td>1</td></tr><tr><td>&quot;fb2ca441-9055-4b47-9493-3d125e…</td><td>1</td></tr><tr><td>&quot;6fd35e9a-47c3-4c66-86c7-6a76de…</td><td>1</td></tr></tbody></table></div>"
      ],
      "text/plain": [
       "shape: (172, 2)\n",
       "┌─────────────────────────────────┬───────┐\n",
       "│ id                              ┆ count │\n",
       "│ ---                             ┆ ---   │\n",
       "│ str                             ┆ u32   │\n",
       "╞═════════════════════════════════╪═══════╡\n",
       "│ 3597ae5d-21ed-418b-83e5-1d5d18… ┆ 1     │\n",
       "│ 1e7f76e4-23e3-4853-b462-92a531… ┆ 1     │\n",
       "│ 36e7d376-319d-4676-9e21-e25c66… ┆ 1     │\n",
       "│ 989c8797-13d3-4362-9de9-5e4ed2… ┆ 1     │\n",
       "│ 57bf59fa-b7bd-409a-9962-4d4620… ┆ 1     │\n",
       "│ …                               ┆ …     │\n",
       "│ a5b09975-cd9c-4d61-80f9-02e472… ┆ 1     │\n",
       "│ 5255e18d-4ec0-48be-989c-0cce18… ┆ 1     │\n",
       "│ eb2422d9-d902-4a02-941e-44ac31… ┆ 1     │\n",
       "│ fb2ca441-9055-4b47-9493-3d125e… ┆ 1     │\n",
       "│ 6fd35e9a-47c3-4c66-86c7-6a76de… ┆ 1     │\n",
       "└─────────────────────────────────┴───────┘"
      ]
     },
     "execution_count": 80,
     "metadata": {},
     "output_type": "execute_result"
    }
   ],
   "source": [
    "error_entry_sessions = df.group_by('id').agg(pl.len().alias('count')).filter(pl.col('count') != 2)\n",
    "df_filtered = df.join(error_entry_sessions, on='id', how='anti')\n",
    "\n",
    "error_entry_sessions"
   ]
  },
  {
   "cell_type": "code",
   "execution_count": 81,
   "id": "0232d8c9-1a97-4d0d-a0da-c8d681f2b082",
   "metadata": {},
   "outputs": [
    {
     "data": {
      "text/html": [
       "<div><style>\n",
       ".dataframe > thead > tr,\n",
       ".dataframe > tbody > tr {\n",
       "  text-align: right;\n",
       "  white-space: pre-wrap;\n",
       "}\n",
       "</style>\n",
       "<small>shape: (994, 6)</small><table border=\"1\" class=\"dataframe\"><thead><tr><th>id</th><th>name</th><th>email</th><th>join_time</th><th>leave_time</th><th>duration</th></tr><tr><td>str</td><td>str</td><td>str</td><td>datetime[μs]</td><td>datetime[μs]</td><td>duration[μs]</td></tr></thead><tbody><tr><td>&quot;09fc9e26-a9d9-4197-ac10-e81d48…</td><td>&quot;Dang Huu Huy 202414518&quot;</td><td>&quot;Huy.DH2414518@sis.hust.edu.vn&quot;</td><td>2025-03-07 02:41:32</td><td>2025-03-07 02:54:47</td><td>13m 15s</td></tr><tr><td>&quot;350baecf-5c8c-4b03-bd2d-50e930…</td><td>&quot;Le Xuan Viet Thang 202418568&quot;</td><td>&quot;Thang.LXV2418568@sis.hust.edu.…</td><td>2025-03-07 02:02:04</td><td>2025-03-07 03:15:02</td><td>1h 12m 58s</td></tr><tr><td>&quot;7d63ff9d-42ac-471c-bfad-e3a6a9…</td><td>&quot;Tran Thanh Hang 20232477&quot;</td><td>&quot;Hang.TT232477@sis.hust.edu.vn&quot;</td><td>2025-03-07 02:37:17</td><td>2025-03-07 02:41:48</td><td>4m 31s</td></tr><tr><td>&quot;27d18db9-aac0-4104-92d2-ca63c4…</td><td>&quot;Le Van Huy 202414174&quot;</td><td>&quot;Huy.LV2414174@sis.hust.edu.vn&quot;</td><td>2025-03-07 02:36:57</td><td>2025-03-07 03:00:12</td><td>23m 15s</td></tr><tr><td>&quot;5e967b23-a83b-4add-a990-c39e59…</td><td>&quot;Nguyen Thi Anh Minh 20233074&quot;</td><td>&quot;Minh.NTA233074@sis.hust.edu.vn&quot;</td><td>2025-03-07 02:21:49</td><td>2025-03-07 02:22:32</td><td>43s</td></tr><tr><td>&hellip;</td><td>&hellip;</td><td>&hellip;</td><td>&hellip;</td><td>&hellip;</td><td>&hellip;</td></tr><tr><td>&quot;674ad83d-e76f-4dbe-ade5-865855…</td><td>&quot;Nguyen Duc Manh 202414237&quot;</td><td>&quot;Manh.ND2414237@sis.hust.edu.vn&quot;</td><td>2025-03-07 02:54:57</td><td>2025-03-07 02:58:15</td><td>3m 18s</td></tr><tr><td>&quot;17e7bc42-ee19-468b-a1b4-ccde44…</td><td>&quot;Le Thai An 202412859&quot;</td><td>&quot;An.LT2412859@sis.hust.edu.vn&quot;</td><td>2025-03-07 02:10:21</td><td>2025-03-07 02:16:12</td><td>5m 51s</td></tr><tr><td>&quot;75ad360e-427b-4cf4-88ed-8ba107…</td><td>&quot;Bui Minh Cuong 202416146&quot;</td><td>&quot;Cuong.BM2416146@sis.hust.edu.v…</td><td>2025-03-07 03:48:17</td><td>2025-03-07 03:51:04</td><td>2m 47s</td></tr><tr><td>&quot;98b392ec-2c0a-4c32-8511-ef2718…</td><td>&quot;Vu Ngoc Gia Han 202415555&quot;</td><td>&quot;Han.VNG2415555@sis.hust.edu.vn&quot;</td><td>2025-03-07 02:34:02</td><td>2025-03-07 03:22:48</td><td>48m 46s</td></tr><tr><td>&quot;8581ceee-618f-4881-817a-fa1886…</td><td>&quot;Le Dinh Long 20236222&quot;</td><td>&quot;Long.LD236222@sis.hust.edu.vn&quot;</td><td>2025-03-07 03:08:58</td><td>2025-03-07 03:22:40</td><td>13m 42s</td></tr></tbody></table></div>"
      ],
      "text/plain": [
       "shape: (994, 6)\n",
       "┌──────────────────────┬─────────────────────┬─────────────────────┬──────────────┬─────────────────────┬──────────────┐\n",
       "│ id                   ┆ name                ┆ email               ┆ join_time    ┆ leave_time          ┆ duration     │\n",
       "│ ---                  ┆ ---                 ┆ ---                 ┆ ---          ┆ ---                 ┆ ---          │\n",
       "│ str                  ┆ str                 ┆ str                 ┆ datetime[μs] ┆ datetime[μs]        ┆ duration[μs] │\n",
       "╞══════════════════════╪═════════════════════╪═════════════════════╪══════════════╪═════════════════════╪══════════════╡\n",
       "│ 09fc9e26-a9d9-4197-a ┆ Dang Huu Huy        ┆ Huy.DH2414518@sis.h ┆ 2025-03-07   ┆ 2025-03-07 02:54:47 ┆ 13m 15s      │\n",
       "│ c10-e81d48…          ┆ 202414518           ┆ ust.edu.vn          ┆ 02:41:32     ┆                     ┆              │\n",
       "│ 350baecf-5c8c-4b03-b ┆ Le Xuan Viet Thang  ┆ Thang.LXV2418568@si ┆ 2025-03-07   ┆ 2025-03-07 03:15:02 ┆ 1h 12m 58s   │\n",
       "│ d2d-50e930…          ┆ 202418568           ┆ s.hust.edu.…        ┆ 02:02:04     ┆                     ┆              │\n",
       "│ 7d63ff9d-42ac-471c-b ┆ Tran Thanh Hang     ┆ Hang.TT232477@sis.h ┆ 2025-03-07   ┆ 2025-03-07 02:41:48 ┆ 4m 31s       │\n",
       "│ fad-e3a6a9…          ┆ 20232477            ┆ ust.edu.vn          ┆ 02:37:17     ┆                     ┆              │\n",
       "│ 27d18db9-aac0-4104-9 ┆ Le Van Huy          ┆ Huy.LV2414174@sis.h ┆ 2025-03-07   ┆ 2025-03-07 03:00:12 ┆ 23m 15s      │\n",
       "│ 2d2-ca63c4…          ┆ 202414174           ┆ ust.edu.vn          ┆ 02:36:57     ┆                     ┆              │\n",
       "│ 5e967b23-a83b-4add-a ┆ Nguyen Thi Anh Minh ┆ Minh.NTA233074@sis. ┆ 2025-03-07   ┆ 2025-03-07 02:22:32 ┆ 43s          │\n",
       "│ 990-c39e59…          ┆ 20233074            ┆ hust.edu.vn         ┆ 02:21:49     ┆                     ┆              │\n",
       "│ …                    ┆ …                   ┆ …                   ┆ …            ┆ …                   ┆ …            │\n",
       "│ 674ad83d-e76f-4dbe-a ┆ Nguyen Duc Manh     ┆ Manh.ND2414237@sis. ┆ 2025-03-07   ┆ 2025-03-07 02:58:15 ┆ 3m 18s       │\n",
       "│ de5-865855…          ┆ 202414237           ┆ hust.edu.vn         ┆ 02:54:57     ┆                     ┆              │\n",
       "│ 17e7bc42-ee19-468b-a ┆ Le Thai An          ┆ An.LT2412859@sis.hu ┆ 2025-03-07   ┆ 2025-03-07 02:16:12 ┆ 5m 51s       │\n",
       "│ 1b4-ccde44…          ┆ 202412859           ┆ st.edu.vn           ┆ 02:10:21     ┆                     ┆              │\n",
       "│ 75ad360e-427b-4cf4-8 ┆ Bui Minh Cuong      ┆ Cuong.BM2416146@sis ┆ 2025-03-07   ┆ 2025-03-07 03:51:04 ┆ 2m 47s       │\n",
       "│ 8ed-8ba107…          ┆ 202416146           ┆ .hust.edu.v…        ┆ 03:48:17     ┆                     ┆              │\n",
       "│ 98b392ec-2c0a-4c32-8 ┆ Vu Ngoc Gia Han     ┆ Han.VNG2415555@sis. ┆ 2025-03-07   ┆ 2025-03-07 03:22:48 ┆ 48m 46s      │\n",
       "│ 511-ef2718…          ┆ 202415555           ┆ hust.edu.vn         ┆ 02:34:02     ┆                     ┆              │\n",
       "│ 8581ceee-618f-4881-8 ┆ Le Dinh Long        ┆ Long.LD236222@sis.h ┆ 2025-03-07   ┆ 2025-03-07 03:22:40 ┆ 13m 42s      │\n",
       "│ 17a-fa1886…          ┆ 20236222            ┆ ust.edu.vn          ┆ 03:08:58     ┆                     ┆              │\n",
       "└──────────────────────┴─────────────────────┴─────────────────────┴──────────────┴─────────────────────┴──────────────┘"
      ]
     },
     "execution_count": 81,
     "metadata": {},
     "output_type": "execute_result"
    }
   ],
   "source": [
    "sessions = (\n",
    "    df_filtered.sort(['id', 'timestamp'])\n",
    "    .group_by('id')\n",
    "    .agg(\n",
    "        pl.col('name').first().alias('name'),\n",
    "        pl.col('email').first().alias('email'),\n",
    "        pl.col('timestamp').filter(pl.col('action') == 'Joined').first().alias('join_time'),\n",
    "        pl.col('timestamp').filter(pl.col('action') == 'Left').first().alias('leave_time')\n",
    "    )\n",
    "    .with_columns(\n",
    "        (pl.col('leave_time') - pl.col('join_time')).alias('duration')\n",
    "    )\n",
    ")\n",
    "\n",
    "sessions"
   ]
  },
  {
   "cell_type": "code",
   "execution_count": 82,
   "id": "ae7c823e-b15a-4f4c-8571-223ac13e4479",
   "metadata": {},
   "outputs": [],
   "source": [
    "def merge_intervals(intervals):\n",
    "    # Sort intervals by start time\n",
    "    sorted_intervals = sorted(intervals, key=lambda x: x['join_time'])\n",
    "    \n",
    "    if not sorted_intervals:\n",
    "        return timedelta(seconds=0)\n",
    "    \n",
    "    merged = [sorted_intervals[0]]\n",
    "    for current in sorted_intervals[1:]:\n",
    "        previous = merged[-1]\n",
    "        if current['join_time'] <= previous['leave_time']:\n",
    "            merged[-1] = {\n",
    "                'join_time': previous['join_time'], \n",
    "                'leave_time': max(previous['leave_time'], current['leave_time'])\n",
    "            }\n",
    "        else:\n",
    "            merged.append(current)\n",
    "    \n",
    "    # Calculate total duration using timedelta objects\n",
    "    total_seconds = sum((interval['leave_time'] - interval['join_time']).total_seconds() \n",
    "                        for interval in merged)\n",
    "    return timedelta(seconds=total_seconds)"
   ]
  },
  {
   "cell_type": "code",
   "execution_count": 89,
   "id": "9b6bfd3f-c5c1-40f4-948a-e7b17b93a09b",
   "metadata": {},
   "outputs": [],
   "source": [
    "result = (\n",
    "    # Group by email to process each person\n",
    "    sessions\n",
    "    .group_by('email')\n",
    "    .agg(\n",
    "        pl.col('name').first().alias('name'),\n",
    "        \n",
    "        # Output all intervals as struct array\n",
    "        pl.struct(['join_time', 'leave_time']).alias('intervals'),\n",
    "        pl.concat_str([\n",
    "            pl.col('join_time').dt.time().cast(pl.Utf8),\n",
    "            pl.lit(' - '),\n",
    "            pl.col('leave_time').dt.time().cast(pl.Utf8)            \n",
    "        ]).alias('formatted_intervals')\n",
    "    )\n",
    "    .with_columns(\n",
    "        pl.col('intervals').map_elements(merge_intervals, return_dtype=pl.Duration).alias('total_non_overlapping_duration'),\n",
    "        pl.col('formatted_intervals')\n",
    "            .list.eval(pl.format('<{}>', pl.element()))\n",
    "            .list.join('')\n",
    "    )\n",
    "    .sort('total_non_overlapping_duration')\n",
    ")"
   ]
  },
  {
   "cell_type": "code",
   "execution_count": 90,
   "id": "9a2c5e25-c0e6-48c1-95c3-cf0e4d81637a",
   "metadata": {},
   "outputs": [
    {
     "data": {
      "text/html": [
       "<div><style>\n",
       ".dataframe > thead > tr,\n",
       ".dataframe > tbody > tr {\n",
       "  text-align: right;\n",
       "  white-space: pre-wrap;\n",
       "}\n",
       "</style>\n",
       "<small>shape: (613, 5)</small><table border=\"1\" class=\"dataframe\"><thead><tr><th>email</th><th>name</th><th>intervals</th><th>formatted_intervals</th><th>total_non_overlapping_duration</th></tr><tr><td>str</td><td>str</td><td>list[struct[2]]</td><td>str</td><td>duration[μs]</td></tr></thead><tbody><tr><td>&quot;Anh.NN235013@sis.hust.edu.vn&quot;</td><td>&quot;Nguyen Ngoc Anh 20235013&quot;</td><td>[{2025-03-07 02:32:24,2025-03-07 02:32:55}]</td><td>&quot;&lt;02:32:24 - 02:32:55&gt;&quot;</td><td>31s</td></tr><tr><td>&quot;Thanh.HX236321@sis.hust.edu.vn&quot;</td><td>&quot;Ha Xuan Thanh 20236321&quot;</td><td>[{2025-03-07 03:36:01,2025-03-07 03:36:39}]</td><td>&quot;&lt;03:36:01 - 03:36:39&gt;&quot;</td><td>38s</td></tr><tr><td>&quot;Anh.HHT2417284@sis.hust.edu.vn&quot;</td><td>&quot;Ha Huy Tuan Anh 202417284&quot;</td><td>[{2025-03-07 02:19:48,2025-03-07 02:20:27}]</td><td>&quot;&lt;02:19:48 - 02:20:27&gt;&quot;</td><td>39s</td></tr><tr><td>&quot;Son.BT2421574@sis.hust.edu.vn&quot;</td><td>&quot;Bui Thanh Son 202421574&quot;</td><td>[{2025-03-07 02:37:49,2025-03-07 02:38:30}]</td><td>&quot;&lt;02:37:49 - 02:38:30&gt;&quot;</td><td>41s</td></tr><tr><td>&quot;Ky.TM222574@sis.hust.edu.vn&quot;</td><td>&quot;Tran Minh Ky 20222574&quot;</td><td>[{2025-03-07 02:01:51,2025-03-07 02:02:33}]</td><td>&quot;&lt;02:01:51 - 02:02:33&gt;&quot;</td><td>42s</td></tr><tr><td>&hellip;</td><td>&hellip;</td><td>&hellip;</td><td>&hellip;</td><td>&hellip;</td></tr><tr><td>&quot;Duy.NV2417380@sis.hust.edu.vn&quot;</td><td>&quot;Nguyen Vu Duy 202417380&quot;</td><td>[{2025-03-07 02:55:27,2025-03-07 02:55:42}, {2025-03-07 02:55:48,2025-03-07 05:30:17}, {2025-03-07 02:17:20,2025-03-07 02:56:13}]</td><td>&quot;&lt;02:55:27 - 02:55:42&gt;&lt;02:55:48…</td><td>3h 12m 57s</td></tr><tr><td>&quot;Anh.VTP2411537@sis.hust.edu.vn&quot;</td><td>&quot;Vu Thi Phuong Anh 202411537&quot;</td><td>[{2025-03-07 02:12:06,2025-03-07 02:17:24}, {2025-03-07 02:11:54,2025-03-07 02:12:34}, … {2025-03-07 02:16:10,2025-03-07 05:32:14}]</td><td>&quot;&lt;02:12:06 - 02:17:24&gt;&lt;02:11:54…</td><td>3h 23m 1s</td></tr><tr><td>&quot;Thao.LT227152@sis.hust.edu.vn&quot;</td><td>&quot;Le Thanh Thao 20227152&quot;</td><td>[{2025-03-07 02:33:22,2025-03-07 02:50:47}, {2025-03-07 02:50:01,2025-03-07 06:16:59}, {2025-03-07 02:25:41,2025-03-07 02:32:23}]</td><td>&quot;&lt;02:33:22 - 02:50:47&gt;&lt;02:50:01…</td><td>3h 50m 19s</td></tr><tr><td>&quot;Son.BT2417021@sis.hust.edu.vn&quot;</td><td>&quot;Bui Tung Son 202417021&quot;</td><td>[{2025-03-07 03:08:30,2025-03-07 03:45:27}, {2025-03-07 02:25:11,2025-03-07 02:33:17}, … {2025-03-07 03:29:38,2025-03-07 06:51:30}]</td><td>&quot;&lt;03:08:30 - 03:45:27&gt;&lt;02:25:11…</td><td>4h 4s</td></tr><tr><td>&quot;Duy.TV222256@sis.hust.edu.vn&quot;</td><td>&quot;Tran Van Duy 20222256&quot;</td><td>[{2025-03-07 02:01:41,2025-03-07 02:18:25}, {2025-03-07 03:14:26,2025-03-07 06:18:43}, {2025-03-07 02:19:00,2025-03-07 03:15:05}]</td><td>&quot;&lt;02:01:41 - 02:18:25&gt;&lt;03:14:26…</td><td>4h 16m 27s</td></tr></tbody></table></div>"
      ],
      "text/plain": [
       "shape: (613, 5)\n",
       "┌─────────────────────────┬───────────────────┬────────────────────┬─────────────────────────┬─────────────────────────┐\n",
       "│ email                   ┆ name              ┆ intervals          ┆ formatted_intervals     ┆ total_non_overlapping_d │\n",
       "│ ---                     ┆ ---               ┆ ---                ┆ ---                     ┆ uration                 │\n",
       "│ str                     ┆ str               ┆ list[struct[2]]    ┆ str                     ┆ ---                     │\n",
       "│                         ┆                   ┆                    ┆                         ┆ duration[μs]            │\n",
       "╞═════════════════════════╪═══════════════════╪════════════════════╪═════════════════════════╪═════════════════════════╡\n",
       "│ Anh.NN235013@sis.hust.e ┆ Nguyen Ngoc Anh   ┆ [{2025-03-07       ┆ <02:32:24 - 02:32:55>   ┆ 31s                     │\n",
       "│ du.vn                   ┆ 20235013          ┆ 02:32:24,2025-03-… ┆                         ┆                         │\n",
       "│ Thanh.HX236321@sis.hust ┆ Ha Xuan Thanh     ┆ [{2025-03-07       ┆ <03:36:01 - 03:36:39>   ┆ 38s                     │\n",
       "│ .edu.vn                 ┆ 20236321          ┆ 03:36:01,2025-03-… ┆                         ┆                         │\n",
       "│ Anh.HHT2417284@sis.hust ┆ Ha Huy Tuan Anh   ┆ [{2025-03-07       ┆ <02:19:48 - 02:20:27>   ┆ 39s                     │\n",
       "│ .edu.vn                 ┆ 202417284         ┆ 02:19:48,2025-03-… ┆                         ┆                         │\n",
       "│ Son.BT2421574@sis.hust. ┆ Bui Thanh Son     ┆ [{2025-03-07       ┆ <02:37:49 - 02:38:30>   ┆ 41s                     │\n",
       "│ edu.vn                  ┆ 202421574         ┆ 02:37:49,2025-03-… ┆                         ┆                         │\n",
       "│ Ky.TM222574@sis.hust.ed ┆ Tran Minh Ky      ┆ [{2025-03-07       ┆ <02:01:51 - 02:02:33>   ┆ 42s                     │\n",
       "│ u.vn                    ┆ 20222574          ┆ 02:01:51,2025-03-… ┆                         ┆                         │\n",
       "│ …                       ┆ …                 ┆ …                  ┆ …                       ┆ …                       │\n",
       "│ Duy.NV2417380@sis.hust. ┆ Nguyen Vu Duy     ┆ [{2025-03-07       ┆ <02:55:27 -             ┆ 3h 12m 57s              │\n",
       "│ edu.vn                  ┆ 202417380         ┆ 02:55:27,2025-03-… ┆ 02:55:42><02:55:48…     ┆                         │\n",
       "│ Anh.VTP2411537@sis.hust ┆ Vu Thi Phuong Anh ┆ [{2025-03-07       ┆ <02:12:06 -             ┆ 3h 23m 1s               │\n",
       "│ .edu.vn                 ┆ 202411537         ┆ 02:12:06,2025-03-… ┆ 02:17:24><02:11:54…     ┆                         │\n",
       "│ Thao.LT227152@sis.hust. ┆ Le Thanh Thao     ┆ [{2025-03-07       ┆ <02:33:22 -             ┆ 3h 50m 19s              │\n",
       "│ edu.vn                  ┆ 20227152          ┆ 02:33:22,2025-03-… ┆ 02:50:47><02:50:01…     ┆                         │\n",
       "│ Son.BT2417021@sis.hust. ┆ Bui Tung Son      ┆ [{2025-03-07       ┆ <03:08:30 -             ┆ 4h 4s                   │\n",
       "│ edu.vn                  ┆ 202417021         ┆ 03:08:30,2025-03-… ┆ 03:45:27><02:25:11…     ┆                         │\n",
       "│ Duy.TV222256@sis.hust.e ┆ Tran Van Duy      ┆ [{2025-03-07       ┆ <02:01:41 -             ┆ 4h 16m 27s              │\n",
       "│ du.vn                   ┆ 20222256          ┆ 02:01:41,2025-03-… ┆ 02:18:25><03:14:26…     ┆                         │\n",
       "└─────────────────────────┴───────────────────┴────────────────────┴─────────────────────────┴─────────────────────────┘"
      ]
     },
     "execution_count": 90,
     "metadata": {},
     "output_type": "execute_result"
    }
   ],
   "source": [
    "result"
   ]
  },
  {
   "cell_type": "code",
   "execution_count": 99,
   "id": "3684c615-7fd6-4512-a5cf-4383847e308b",
   "metadata": {},
   "outputs": [
    {
     "data": {
      "text/html": [
       "<div><style>\n",
       ".dataframe > thead > tr,\n",
       ".dataframe > tbody > tr {\n",
       "  text-align: right;\n",
       "  white-space: pre-wrap;\n",
       "}\n",
       "</style>\n",
       "<small>shape: (613, 4)</small><table border=\"1\" class=\"dataframe\"><thead><tr><th>email</th><th>name</th><th>formatted_intervals</th><th>duration_in_seconds</th></tr><tr><td>str</td><td>str</td><td>str</td><td>i64</td></tr></thead><tbody><tr><td>&quot;Anh.NN235013@sis.hust.edu.vn&quot;</td><td>&quot;Nguyen Ngoc Anh 20235013&quot;</td><td>&quot;&lt;02:32:24 - 02:32:55&gt;&quot;</td><td>31</td></tr><tr><td>&quot;Thanh.HX236321@sis.hust.edu.vn&quot;</td><td>&quot;Ha Xuan Thanh 20236321&quot;</td><td>&quot;&lt;03:36:01 - 03:36:39&gt;&quot;</td><td>38</td></tr><tr><td>&quot;Anh.HHT2417284@sis.hust.edu.vn&quot;</td><td>&quot;Ha Huy Tuan Anh 202417284&quot;</td><td>&quot;&lt;02:19:48 - 02:20:27&gt;&quot;</td><td>39</td></tr><tr><td>&quot;Son.BT2421574@sis.hust.edu.vn&quot;</td><td>&quot;Bui Thanh Son 202421574&quot;</td><td>&quot;&lt;02:37:49 - 02:38:30&gt;&quot;</td><td>41</td></tr><tr><td>&quot;Ky.TM222574@sis.hust.edu.vn&quot;</td><td>&quot;Tran Minh Ky 20222574&quot;</td><td>&quot;&lt;02:01:51 - 02:02:33&gt;&quot;</td><td>42</td></tr><tr><td>&hellip;</td><td>&hellip;</td><td>&hellip;</td><td>&hellip;</td></tr><tr><td>&quot;Duy.NV2417380@sis.hust.edu.vn&quot;</td><td>&quot;Nguyen Vu Duy 202417380&quot;</td><td>&quot;&lt;02:55:27 - 02:55:42&gt;&lt;02:55:48…</td><td>11577</td></tr><tr><td>&quot;Anh.VTP2411537@sis.hust.edu.vn&quot;</td><td>&quot;Vu Thi Phuong Anh 202411537&quot;</td><td>&quot;&lt;02:12:06 - 02:17:24&gt;&lt;02:11:54…</td><td>12181</td></tr><tr><td>&quot;Thao.LT227152@sis.hust.edu.vn&quot;</td><td>&quot;Le Thanh Thao 20227152&quot;</td><td>&quot;&lt;02:33:22 - 02:50:47&gt;&lt;02:50:01…</td><td>13819</td></tr><tr><td>&quot;Son.BT2417021@sis.hust.edu.vn&quot;</td><td>&quot;Bui Tung Son 202417021&quot;</td><td>&quot;&lt;03:08:30 - 03:45:27&gt;&lt;02:25:11…</td><td>14404</td></tr><tr><td>&quot;Duy.TV222256@sis.hust.edu.vn&quot;</td><td>&quot;Tran Van Duy 20222256&quot;</td><td>&quot;&lt;02:01:41 - 02:18:25&gt;&lt;03:14:26…</td><td>15387</td></tr></tbody></table></div>"
      ],
      "text/plain": [
       "shape: (613, 4)\n",
       "┌────────────────────────────────┬─────────────────────────────┬─────────────────────────────────┬─────────────────────┐\n",
       "│ email                          ┆ name                        ┆ formatted_intervals             ┆ duration_in_seconds │\n",
       "│ ---                            ┆ ---                         ┆ ---                             ┆ ---                 │\n",
       "│ str                            ┆ str                         ┆ str                             ┆ i64                 │\n",
       "╞════════════════════════════════╪═════════════════════════════╪═════════════════════════════════╪═════════════════════╡\n",
       "│ Anh.NN235013@sis.hust.edu.vn   ┆ Nguyen Ngoc Anh 20235013    ┆ <02:32:24 - 02:32:55>           ┆ 31                  │\n",
       "│ Thanh.HX236321@sis.hust.edu.vn ┆ Ha Xuan Thanh 20236321      ┆ <03:36:01 - 03:36:39>           ┆ 38                  │\n",
       "│ Anh.HHT2417284@sis.hust.edu.vn ┆ Ha Huy Tuan Anh 202417284   ┆ <02:19:48 - 02:20:27>           ┆ 39                  │\n",
       "│ Son.BT2421574@sis.hust.edu.vn  ┆ Bui Thanh Son 202421574     ┆ <02:37:49 - 02:38:30>           ┆ 41                  │\n",
       "│ Ky.TM222574@sis.hust.edu.vn    ┆ Tran Minh Ky 20222574       ┆ <02:01:51 - 02:02:33>           ┆ 42                  │\n",
       "│ …                              ┆ …                           ┆ …                               ┆ …                   │\n",
       "│ Duy.NV2417380@sis.hust.edu.vn  ┆ Nguyen Vu Duy 202417380     ┆ <02:55:27 - 02:55:42><02:55:48… ┆ 11577               │\n",
       "│ Anh.VTP2411537@sis.hust.edu.vn ┆ Vu Thi Phuong Anh 202411537 ┆ <02:12:06 - 02:17:24><02:11:54… ┆ 12181               │\n",
       "│ Thao.LT227152@sis.hust.edu.vn  ┆ Le Thanh Thao 20227152      ┆ <02:33:22 - 02:50:47><02:50:01… ┆ 13819               │\n",
       "│ Son.BT2417021@sis.hust.edu.vn  ┆ Bui Tung Son 202417021      ┆ <03:08:30 - 03:45:27><02:25:11… ┆ 14404               │\n",
       "│ Duy.TV222256@sis.hust.edu.vn   ┆ Tran Van Duy 20222256       ┆ <02:01:41 - 02:18:25><03:14:26… ┆ 15387               │\n",
       "└────────────────────────────────┴─────────────────────────────┴─────────────────────────────────┴─────────────────────┘"
      ]
     },
     "execution_count": 99,
     "metadata": {},
     "output_type": "execute_result"
    }
   ],
   "source": [
    "result_formatted = (\n",
    "    result\n",
    "    .with_columns(\n",
    "        (pl.col(\"total_non_overlapping_duration\") / 1_000_000).cast(pl.Int64).alias(\"duration_in_seconds\")\n",
    "    )\n",
    "    .drop(['intervals', 'total_non_overlapping_duration'])\n",
    ")\n",
    "\n",
    "result_formatted"
   ]
  },
  {
   "cell_type": "code",
   "execution_count": 102,
   "id": "733c7ef0-138d-4507-a65e-6e8c3474dd47",
   "metadata": {},
   "outputs": [],
   "source": [
    "result_formatted.write_csv(f\"Duration_Output_{filename.replace('.csv', '')}.csv\")"
   ]
  },
  {
   "cell_type": "code",
   "execution_count": null,
   "id": "0b48e49f-aebb-4361-ba0f-04cd97087d66",
   "metadata": {},
   "outputs": [],
   "source": []
  }
 ],
 "metadata": {
  "kernelspec": {
   "display_name": "Python 3 (ipykernel)",
   "language": "python",
   "name": "python3"
  },
  "language_info": {
   "codemirror_mode": {
    "name": "ipython",
    "version": 3
   },
   "file_extension": ".py",
   "mimetype": "text/x-python",
   "name": "python",
   "nbconvert_exporter": "python",
   "pygments_lexer": "ipython3",
   "version": "3.8.20"
  }
 },
 "nbformat": 4,
 "nbformat_minor": 5
}
