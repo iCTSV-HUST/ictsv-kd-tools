{
  "cells": [
    {
      "cell_type": "code",
      "execution_count": null,
      "id": "902985ec-87e3-4efb-9702-bdbf09dc41cf",
      "metadata": {
        "id": "902985ec-87e3-4efb-9702-bdbf09dc41cf",
        "outputId": "dc5757e8-1e47-4cd1-a43b-36d70196964c",
        "colab": {
          "base_uri": "https://localhost:8080/",
          "height": 74
        }
      },
      "outputs": [
        {
          "output_type": "display_data",
          "data": {
            "text/plain": [
              "<IPython.core.display.HTML object>"
            ],
            "text/html": [
              "\n",
              "     <input type=\"file\" id=\"files-74b41e57-0ab0-4560-be7e-b45b8fed6f90\" name=\"files[]\" multiple disabled\n",
              "        style=\"border:none\" />\n",
              "     <output id=\"result-74b41e57-0ab0-4560-be7e-b45b8fed6f90\">\n",
              "      Upload widget is only available when the cell has been executed in the\n",
              "      current browser session. Please rerun this cell to enable.\n",
              "      </output>\n",
              "      <script>// Copyright 2017 Google LLC\n",
              "//\n",
              "// Licensed under the Apache License, Version 2.0 (the \"License\");\n",
              "// you may not use this file except in compliance with the License.\n",
              "// You may obtain a copy of the License at\n",
              "//\n",
              "//      http://www.apache.org/licenses/LICENSE-2.0\n",
              "//\n",
              "// Unless required by applicable law or agreed to in writing, software\n",
              "// distributed under the License is distributed on an \"AS IS\" BASIS,\n",
              "// WITHOUT WARRANTIES OR CONDITIONS OF ANY KIND, either express or implied.\n",
              "// See the License for the specific language governing permissions and\n",
              "// limitations under the License.\n",
              "\n",
              "/**\n",
              " * @fileoverview Helpers for google.colab Python module.\n",
              " */\n",
              "(function(scope) {\n",
              "function span(text, styleAttributes = {}) {\n",
              "  const element = document.createElement('span');\n",
              "  element.textContent = text;\n",
              "  for (const key of Object.keys(styleAttributes)) {\n",
              "    element.style[key] = styleAttributes[key];\n",
              "  }\n",
              "  return element;\n",
              "}\n",
              "\n",
              "// Max number of bytes which will be uploaded at a time.\n",
              "const MAX_PAYLOAD_SIZE = 100 * 1024;\n",
              "\n",
              "function _uploadFiles(inputId, outputId) {\n",
              "  const steps = uploadFilesStep(inputId, outputId);\n",
              "  const outputElement = document.getElementById(outputId);\n",
              "  // Cache steps on the outputElement to make it available for the next call\n",
              "  // to uploadFilesContinue from Python.\n",
              "  outputElement.steps = steps;\n",
              "\n",
              "  return _uploadFilesContinue(outputId);\n",
              "}\n",
              "\n",
              "// This is roughly an async generator (not supported in the browser yet),\n",
              "// where there are multiple asynchronous steps and the Python side is going\n",
              "// to poll for completion of each step.\n",
              "// This uses a Promise to block the python side on completion of each step,\n",
              "// then passes the result of the previous step as the input to the next step.\n",
              "function _uploadFilesContinue(outputId) {\n",
              "  const outputElement = document.getElementById(outputId);\n",
              "  const steps = outputElement.steps;\n",
              "\n",
              "  const next = steps.next(outputElement.lastPromiseValue);\n",
              "  return Promise.resolve(next.value.promise).then((value) => {\n",
              "    // Cache the last promise value to make it available to the next\n",
              "    // step of the generator.\n",
              "    outputElement.lastPromiseValue = value;\n",
              "    return next.value.response;\n",
              "  });\n",
              "}\n",
              "\n",
              "/**\n",
              " * Generator function which is called between each async step of the upload\n",
              " * process.\n",
              " * @param {string} inputId Element ID of the input file picker element.\n",
              " * @param {string} outputId Element ID of the output display.\n",
              " * @return {!Iterable<!Object>} Iterable of next steps.\n",
              " */\n",
              "function* uploadFilesStep(inputId, outputId) {\n",
              "  const inputElement = document.getElementById(inputId);\n",
              "  inputElement.disabled = false;\n",
              "\n",
              "  const outputElement = document.getElementById(outputId);\n",
              "  outputElement.innerHTML = '';\n",
              "\n",
              "  const pickedPromise = new Promise((resolve) => {\n",
              "    inputElement.addEventListener('change', (e) => {\n",
              "      resolve(e.target.files);\n",
              "    });\n",
              "  });\n",
              "\n",
              "  const cancel = document.createElement('button');\n",
              "  inputElement.parentElement.appendChild(cancel);\n",
              "  cancel.textContent = 'Cancel upload';\n",
              "  const cancelPromise = new Promise((resolve) => {\n",
              "    cancel.onclick = () => {\n",
              "      resolve(null);\n",
              "    };\n",
              "  });\n",
              "\n",
              "  // Wait for the user to pick the files.\n",
              "  const files = yield {\n",
              "    promise: Promise.race([pickedPromise, cancelPromise]),\n",
              "    response: {\n",
              "      action: 'starting',\n",
              "    }\n",
              "  };\n",
              "\n",
              "  cancel.remove();\n",
              "\n",
              "  // Disable the input element since further picks are not allowed.\n",
              "  inputElement.disabled = true;\n",
              "\n",
              "  if (!files) {\n",
              "    return {\n",
              "      response: {\n",
              "        action: 'complete',\n",
              "      }\n",
              "    };\n",
              "  }\n",
              "\n",
              "  for (const file of files) {\n",
              "    const li = document.createElement('li');\n",
              "    li.append(span(file.name, {fontWeight: 'bold'}));\n",
              "    li.append(span(\n",
              "        `(${file.type || 'n/a'}) - ${file.size} bytes, ` +\n",
              "        `last modified: ${\n",
              "            file.lastModifiedDate ? file.lastModifiedDate.toLocaleDateString() :\n",
              "                                    'n/a'} - `));\n",
              "    const percent = span('0% done');\n",
              "    li.appendChild(percent);\n",
              "\n",
              "    outputElement.appendChild(li);\n",
              "\n",
              "    const fileDataPromise = new Promise((resolve) => {\n",
              "      const reader = new FileReader();\n",
              "      reader.onload = (e) => {\n",
              "        resolve(e.target.result);\n",
              "      };\n",
              "      reader.readAsArrayBuffer(file);\n",
              "    });\n",
              "    // Wait for the data to be ready.\n",
              "    let fileData = yield {\n",
              "      promise: fileDataPromise,\n",
              "      response: {\n",
              "        action: 'continue',\n",
              "      }\n",
              "    };\n",
              "\n",
              "    // Use a chunked sending to avoid message size limits. See b/62115660.\n",
              "    let position = 0;\n",
              "    do {\n",
              "      const length = Math.min(fileData.byteLength - position, MAX_PAYLOAD_SIZE);\n",
              "      const chunk = new Uint8Array(fileData, position, length);\n",
              "      position += length;\n",
              "\n",
              "      const base64 = btoa(String.fromCharCode.apply(null, chunk));\n",
              "      yield {\n",
              "        response: {\n",
              "          action: 'append',\n",
              "          file: file.name,\n",
              "          data: base64,\n",
              "        },\n",
              "      };\n",
              "\n",
              "      let percentDone = fileData.byteLength === 0 ?\n",
              "          100 :\n",
              "          Math.round((position / fileData.byteLength) * 100);\n",
              "      percent.textContent = `${percentDone}% done`;\n",
              "\n",
              "    } while (position < fileData.byteLength);\n",
              "  }\n",
              "\n",
              "  // All done.\n",
              "  yield {\n",
              "    response: {\n",
              "      action: 'complete',\n",
              "    }\n",
              "  };\n",
              "}\n",
              "\n",
              "scope.google = scope.google || {};\n",
              "scope.google.colab = scope.google.colab || {};\n",
              "scope.google.colab._files = {\n",
              "  _uploadFiles,\n",
              "  _uploadFilesContinue,\n",
              "};\n",
              "})(self);\n",
              "</script> "
            ]
          },
          "metadata": {}
        },
        {
          "output_type": "stream",
          "name": "stdout",
          "text": [
            "Saving AttendeeReport.csv to AttendeeReport (2).csv\n"
          ]
        }
      ],
      "source": [
        "# @title Upload file 'AttendeeReport.csv'\n",
        "from google.colab import files\n",
        "uploaded = files.upload()"
      ]
    },
    {
      "cell_type": "code",
      "source": [
        "# @title Nhập thời gian bắt đầu, kết thúc\n",
        "ngay = \"2025-03-07\" # @param {\"type\":\"date\"}\n",
        "bat_dau = '9:00:00' # @param {\"type\":\"string\",\"placeholder\":\"9:00:00\"}\n",
        "ket_thuc = '10:52:00' # @param {\"type\":\"string\",\"placeholder\":\"10:00:00\"}\n"
      ],
      "metadata": {
        "cellView": "form",
        "id": "zNCux8KHJUov"
      },
      "id": "zNCux8KHJUov",
      "execution_count": null,
      "outputs": []
    },
    {
      "cell_type": "code",
      "source": [
        "print(f\"Bắt đầu: {ngay} - {bat_dau}\")\n",
        "print(f\"Kết thúc: {ngay} - {ket_thuc}\")"
      ],
      "metadata": {
        "id": "hDLfK0c2J7XQ",
        "outputId": "c7e8f8fa-dd63-43c2-d8b7-9b2365834eb5",
        "colab": {
          "base_uri": "https://localhost:8080/"
        }
      },
      "id": "hDLfK0c2J7XQ",
      "execution_count": null,
      "outputs": [
        {
          "output_type": "stream",
          "name": "stdout",
          "text": [
            "Bắt đầu: 2025-03-07 - 9:00:00\n",
            "Kết thúc: 2025-03-07 - 10:52:00\n"
          ]
        }
      ]
    },
    {
      "cell_type": "markdown",
      "id": "0d71df55-5d0f-4a46-a799-d1ed1fad9f15",
      "metadata": {
        "id": "0d71df55-5d0f-4a46-a799-d1ed1fad9f15"
      },
      "source": [
        "### Code running (calculating duration)"
      ]
    },
    {
      "cell_type": "code",
      "execution_count": null,
      "id": "99c3481c-a5ec-4c29-9090-d187f551bf8b",
      "metadata": {
        "id": "99c3481c-a5ec-4c29-9090-d187f551bf8b"
      },
      "outputs": [],
      "source": [
        "import polars as pl\n",
        "from datetime import datetime, timedelta, timezone"
      ]
    },
    {
      "cell_type": "code",
      "source": [
        "filename = 'AttendeeReport.csv'"
      ],
      "metadata": {
        "id": "AJJcLHZxLkDS"
      },
      "id": "AJJcLHZxLkDS",
      "execution_count": null,
      "outputs": []
    },
    {
      "cell_type": "code",
      "execution_count": null,
      "id": "46a09794-bc28-4fc8-8431-883d968c964a",
      "metadata": {
        "id": "46a09794-bc28-4fc8-8431-883d968c964a"
      },
      "outputs": [],
      "source": [
        "# Parse time & set timezone UTC+7\n",
        "ending_datetime = datetime.combine(\n",
        "    datetime.strptime(ngay, \"%Y-%m-%d\").date(),\n",
        "    datetime.strptime(ket_thuc, \"%H:%M:%S\").time()\n",
        ").replace(tzinfo=timezone(timedelta(hours=7)))"
      ]
    },
    {
      "cell_type": "code",
      "execution_count": null,
      "id": "178aee8c-b8a8-46fb-ae6d-1ceb5ebdc610",
      "metadata": {
        "id": "178aee8c-b8a8-46fb-ae6d-1ceb5ebdc610",
        "outputId": "6b1f56b1-34ac-478c-ac5e-7a73de5b6a2e",
        "colab": {
          "base_uri": "https://localhost:8080/",
          "height": 634
        }
      },
      "outputs": [
        {
          "output_type": "execute_result",
          "data": {
            "text/plain": [
              "shape: (2_160, 7)\n",
              "┌───────────────┬───────────────┬───────────────┬───────────────┬──────────────┬────────┬──────────┐\n",
              "│ id            ┆ email         ┆ name          ┆ user_agent    ┆ timestamp    ┆ action ┆ role     │\n",
              "│ ---           ┆ ---           ┆ ---           ┆ ---           ┆ ---          ┆ ---    ┆ ---      │\n",
              "│ str           ┆ str           ┆ str           ┆ str           ┆ datetime[μs, ┆ str    ┆ str      │\n",
              "│               ┆               ┆               ┆               ┆ Asia/Ho_Chi_ ┆        ┆          │\n",
              "│               ┆               ┆               ┆               ┆ Minh]        ┆        ┆          │\n",
              "╞═══════════════╪═══════════════╪═══════════════╪═══════════════╪══════════════╪════════╪══════════╡\n",
              "│ be6789ac-cff9 ┆ An.DTH2410000 ┆ Dao Thi Ha An ┆ Mozilla/5.0   ┆ 2025-03-07   ┆ Joined ┆ Attendee │\n",
              "│ -4391-9b20-f1 ┆ @sis.hust.edu ┆ 202410000     ┆ (iPhone; CPU  ┆ 10:45:52 +07 ┆        ┆          │\n",
              "│ 7238…         ┆ .vn           ┆               ┆ iPhon…        ┆              ┆        ┆          │\n",
              "│ be6789ac-cff9 ┆ An.DTH2410000 ┆ Dao Thi Ha An ┆ Mozilla/5.0   ┆ 2025-03-07   ┆ Left   ┆ Attendee │\n",
              "│ -4391-9b20-f1 ┆ @sis.hust.edu ┆ 202410000     ┆ (iPhone; CPU  ┆ 11:12:32 +07 ┆        ┆          │\n",
              "│ 7238…         ┆ .vn           ┆               ┆ iPhon…        ┆              ┆        ┆          │\n",
              "│ fb225999-3098 ┆ An.DTH2410000 ┆ Dao Thi Ha An ┆ Mozilla/5.0   ┆ 2025-03-07   ┆ Joined ┆ Attendee │\n",
              "│ -485b-91f4-fc ┆ @sis.hust.edu ┆ 202410000     ┆               ┆ 09:18:53 +07 ┆        ┆          │\n",
              "│ 9e51…         ┆ .vn           ┆               ┆               ┆              ┆        ┆          │\n",
              "│ fb225999-3098 ┆ An.DTH2410000 ┆ Dao Thi Ha An ┆ Mozilla/5.0   ┆ 2025-03-07   ┆ Left   ┆ Attendee │\n",
              "│ -485b-91f4-fc ┆ @sis.hust.edu ┆ 202410000     ┆ (iPhone; CPU  ┆ 10:37:16 +07 ┆        ┆          │\n",
              "│ 9e51…         ┆ .vn           ┆               ┆ iPhon…        ┆              ┆        ┆          │\n",
              "│ 17e7bc42-ee19 ┆ An.LT2412859@ ┆ Le Thai An    ┆ Mozilla/5.0   ┆ 2025-03-07   ┆ Joined ┆ Attendee │\n",
              "│ -468b-a1b4-cc ┆ sis.hust.edu. ┆ 202412859     ┆ (iPhone; CPU  ┆ 09:10:21 +07 ┆        ┆          │\n",
              "│ de44…         ┆ vn            ┆               ┆ iPhon…        ┆              ┆        ┆          │\n",
              "│ …             ┆ …             ┆ …             ┆ …             ┆ …            ┆ …      ┆ …        │\n",
              "│ 555a4332-f0b9 ┆ Yen.NH2419910 ┆ Nguyen Hai    ┆ Mozilla/5.0   ┆ 2025-03-07   ┆ Joined ┆ Attendee │\n",
              "│ -4466-8525-23 ┆ @sis.hust.edu ┆ Yen 202419910 ┆               ┆ 09:25:16 +07 ┆        ┆          │\n",
              "│ d2aa…         ┆ .vn           ┆               ┆               ┆              ┆        ┆          │\n",
              "│ 9380b31a-9c9a ┆ Yen.NH2419910 ┆ Nguyen Hai    ┆ Mozilla/5.0   ┆ 2025-03-07   ┆ Joined ┆ Attendee │\n",
              "│ -4905-871e-e1 ┆ @sis.hust.edu ┆ Yen 202419910 ┆ (iPhone; CPU  ┆ 09:30:19 +07 ┆        ┆          │\n",
              "│ e2bb…         ┆ .vn           ┆               ┆ iPhon…        ┆              ┆        ┆          │\n",
              "│ 9380b31a-9c9a ┆ Yen.NH2419910 ┆ Nguyen Hai    ┆ Mozilla/5.0   ┆ 2025-03-07   ┆ Left   ┆ Attendee │\n",
              "│ -4905-871e-e1 ┆ @sis.hust.edu ┆ Yen 202419910 ┆ (iPhone; CPU  ┆ 09:31:51 +07 ┆        ┆          │\n",
              "│ e2bb…         ┆ .vn           ┆               ┆ iPhon…        ┆              ┆        ┆          │\n",
              "│ 9b5e7f54-9580 ┆ Yen.NTH242036 ┆ Ngo Thi Hai   ┆ Mozilla/5.0   ┆ 2025-03-07   ┆ Joined ┆ Attendee │\n",
              "│ -4ea0-84fd-a6 ┆ 5@sis.hust.ed ┆ Yen 202420365 ┆               ┆ 09:24:56 +07 ┆        ┆          │\n",
              "│ d0ed…         ┆ u.vn          ┆               ┆               ┆              ┆        ┆          │\n",
              "│ 9b5e7f54-9580 ┆ Yen.NTH242036 ┆ Ngo Thi Hai   ┆ Mozilla/5.0   ┆ 2025-03-07   ┆ Left   ┆ Attendee │\n",
              "│ -4ea0-84fd-a6 ┆ 5@sis.hust.ed ┆ Yen 202420365 ┆ (Linux;       ┆ 09:28:30 +07 ┆        ┆          │\n",
              "│ d0ed…         ┆ u.vn          ┆               ┆ Android 10…   ┆              ┆        ┆          │\n",
              "└───────────────┴───────────────┴───────────────┴───────────────┴──────────────┴────────┴──────────┘"
            ],
            "text/html": [
              "<div><style>\n",
              ".dataframe > thead > tr,\n",
              ".dataframe > tbody > tr {\n",
              "  text-align: right;\n",
              "  white-space: pre-wrap;\n",
              "}\n",
              "</style>\n",
              "<small>shape: (2_160, 7)</small><table border=\"1\" class=\"dataframe\"><thead><tr><th>id</th><th>email</th><th>name</th><th>user_agent</th><th>timestamp</th><th>action</th><th>role</th></tr><tr><td>str</td><td>str</td><td>str</td><td>str</td><td>datetime[μs, Asia/Ho_Chi_Minh]</td><td>str</td><td>str</td></tr></thead><tbody><tr><td>&quot;be6789ac-cff9-4391-9b20-f17238…</td><td>&quot;An.DTH2410000@sis.hust.edu.vn&quot;</td><td>&quot;Dao Thi Ha An 202410000&quot;</td><td>&quot;Mozilla/5.0 (iPhone; CPU iPhon…</td><td>2025-03-07 10:45:52 +07</td><td>&quot;Joined&quot;</td><td>&quot;Attendee&quot;</td></tr><tr><td>&quot;be6789ac-cff9-4391-9b20-f17238…</td><td>&quot;An.DTH2410000@sis.hust.edu.vn&quot;</td><td>&quot;Dao Thi Ha An 202410000&quot;</td><td>&quot;Mozilla/5.0 (iPhone; CPU iPhon…</td><td>2025-03-07 11:12:32 +07</td><td>&quot;Left&quot;</td><td>&quot;Attendee&quot;</td></tr><tr><td>&quot;fb225999-3098-485b-91f4-fc9e51…</td><td>&quot;An.DTH2410000@sis.hust.edu.vn&quot;</td><td>&quot;Dao Thi Ha An 202410000&quot;</td><td>&quot;Mozilla/5.0&quot;</td><td>2025-03-07 09:18:53 +07</td><td>&quot;Joined&quot;</td><td>&quot;Attendee&quot;</td></tr><tr><td>&quot;fb225999-3098-485b-91f4-fc9e51…</td><td>&quot;An.DTH2410000@sis.hust.edu.vn&quot;</td><td>&quot;Dao Thi Ha An 202410000&quot;</td><td>&quot;Mozilla/5.0 (iPhone; CPU iPhon…</td><td>2025-03-07 10:37:16 +07</td><td>&quot;Left&quot;</td><td>&quot;Attendee&quot;</td></tr><tr><td>&quot;17e7bc42-ee19-468b-a1b4-ccde44…</td><td>&quot;An.LT2412859@sis.hust.edu.vn&quot;</td><td>&quot;Le Thai An 202412859&quot;</td><td>&quot;Mozilla/5.0 (iPhone; CPU iPhon…</td><td>2025-03-07 09:10:21 +07</td><td>&quot;Joined&quot;</td><td>&quot;Attendee&quot;</td></tr><tr><td>&hellip;</td><td>&hellip;</td><td>&hellip;</td><td>&hellip;</td><td>&hellip;</td><td>&hellip;</td><td>&hellip;</td></tr><tr><td>&quot;555a4332-f0b9-4466-8525-23d2aa…</td><td>&quot;Yen.NH2419910@sis.hust.edu.vn&quot;</td><td>&quot;Nguyen Hai Yen 202419910&quot;</td><td>&quot;Mozilla/5.0&quot;</td><td>2025-03-07 09:25:16 +07</td><td>&quot;Joined&quot;</td><td>&quot;Attendee&quot;</td></tr><tr><td>&quot;9380b31a-9c9a-4905-871e-e1e2bb…</td><td>&quot;Yen.NH2419910@sis.hust.edu.vn&quot;</td><td>&quot;Nguyen Hai Yen 202419910&quot;</td><td>&quot;Mozilla/5.0 (iPhone; CPU iPhon…</td><td>2025-03-07 09:30:19 +07</td><td>&quot;Joined&quot;</td><td>&quot;Attendee&quot;</td></tr><tr><td>&quot;9380b31a-9c9a-4905-871e-e1e2bb…</td><td>&quot;Yen.NH2419910@sis.hust.edu.vn&quot;</td><td>&quot;Nguyen Hai Yen 202419910&quot;</td><td>&quot;Mozilla/5.0 (iPhone; CPU iPhon…</td><td>2025-03-07 09:31:51 +07</td><td>&quot;Left&quot;</td><td>&quot;Attendee&quot;</td></tr><tr><td>&quot;9b5e7f54-9580-4ea0-84fd-a6d0ed…</td><td>&quot;Yen.NTH2420365@sis.hust.edu.vn&quot;</td><td>&quot;Ngo Thi Hai Yen 202420365&quot;</td><td>&quot;Mozilla/5.0&quot;</td><td>2025-03-07 09:24:56 +07</td><td>&quot;Joined&quot;</td><td>&quot;Attendee&quot;</td></tr><tr><td>&quot;9b5e7f54-9580-4ea0-84fd-a6d0ed…</td><td>&quot;Yen.NTH2420365@sis.hust.edu.vn&quot;</td><td>&quot;Ngo Thi Hai Yen 202420365&quot;</td><td>&quot;Mozilla/5.0 (Linux; Android 10…</td><td>2025-03-07 09:28:30 +07</td><td>&quot;Left&quot;</td><td>&quot;Attendee&quot;</td></tr></tbody></table></div>"
            ]
          },
          "metadata": {},
          "execution_count": 57
        }
      ],
      "source": [
        "df = pl.read_csv(filename).rename({\n",
        "    'Session Id': 'id',\n",
        "    'Participant Id': 'email',\n",
        "    'Full Name': 'name',\n",
        "    'UserAgent': 'user_agent',\n",
        "    'UTC Event Timestamp': 'timestamp',\n",
        "    'Action': 'action',\n",
        "    'Role': 'role'\n",
        "}).with_columns(\n",
        "    pl.col('timestamp')\n",
        "        .str.strptime(pl.Datetime, format='%m/%d/%Y %I:%M:%S %p')\n",
        "        .dt.convert_time_zone('Asia/Ho_Chi_Minh')\n",
        ").sort(\n",
        "    by=['email','id', 'timestamp']\n",
        ")\n",
        "\n",
        "df"
      ]
    },
    {
      "cell_type": "code",
      "execution_count": null,
      "id": "1a3863b1-0a7e-44b8-a7aa-36f18810ec32",
      "metadata": {
        "id": "1a3863b1-0a7e-44b8-a7aa-36f18810ec32",
        "outputId": "33c33db1-741b-4d56-fc7e-63e5b66cc9f0",
        "colab": {
          "base_uri": "https://localhost:8080/",
          "height": 443
        }
      },
      "outputs": [
        {
          "output_type": "execute_result",
          "data": {
            "text/plain": [
              "shape: (172, 2)\n",
              "┌─────────────────────────────────┬───────┐\n",
              "│ id                              ┆ count │\n",
              "│ ---                             ┆ ---   │\n",
              "│ str                             ┆ u32   │\n",
              "╞═════════════════════════════════╪═══════╡\n",
              "│ 9bfe0244-9b03-46cc-920c-fc2ab9… ┆ 1     │\n",
              "│ 33e9125b-37de-44ce-a212-1ea6a5… ┆ 1     │\n",
              "│ a8367a8d-b5b8-4ce7-8a40-de6b35… ┆ 1     │\n",
              "│ bce2f862-7312-42cc-b1bd-48e2e1… ┆ 1     │\n",
              "│ aa2581d6-baf8-4b66-975f-20117a… ┆ 1     │\n",
              "│ …                               ┆ …     │\n",
              "│ 774d018f-d9d8-4995-911d-137127… ┆ 1     │\n",
              "│ 76215f0b-4737-4520-9977-09e7e5… ┆ 1     │\n",
              "│ c0651cb0-beff-4498-b34c-fad7b8… ┆ 1     │\n",
              "│ 8c8d3b09-0a09-4914-b0e6-4c1b86… ┆ 1     │\n",
              "│ e3f88bec-172f-43cd-b3ce-79c2f4… ┆ 1     │\n",
              "└─────────────────────────────────┴───────┘"
            ],
            "text/html": [
              "<div><style>\n",
              ".dataframe > thead > tr,\n",
              ".dataframe > tbody > tr {\n",
              "  text-align: right;\n",
              "  white-space: pre-wrap;\n",
              "}\n",
              "</style>\n",
              "<small>shape: (172, 2)</small><table border=\"1\" class=\"dataframe\"><thead><tr><th>id</th><th>count</th></tr><tr><td>str</td><td>u32</td></tr></thead><tbody><tr><td>&quot;9bfe0244-9b03-46cc-920c-fc2ab9…</td><td>1</td></tr><tr><td>&quot;33e9125b-37de-44ce-a212-1ea6a5…</td><td>1</td></tr><tr><td>&quot;a8367a8d-b5b8-4ce7-8a40-de6b35…</td><td>1</td></tr><tr><td>&quot;bce2f862-7312-42cc-b1bd-48e2e1…</td><td>1</td></tr><tr><td>&quot;aa2581d6-baf8-4b66-975f-20117a…</td><td>1</td></tr><tr><td>&hellip;</td><td>&hellip;</td></tr><tr><td>&quot;774d018f-d9d8-4995-911d-137127…</td><td>1</td></tr><tr><td>&quot;76215f0b-4737-4520-9977-09e7e5…</td><td>1</td></tr><tr><td>&quot;c0651cb0-beff-4498-b34c-fad7b8…</td><td>1</td></tr><tr><td>&quot;8c8d3b09-0a09-4914-b0e6-4c1b86…</td><td>1</td></tr><tr><td>&quot;e3f88bec-172f-43cd-b3ce-79c2f4…</td><td>1</td></tr></tbody></table></div>"
            ]
          },
          "metadata": {},
          "execution_count": 58
        }
      ],
      "source": [
        "error_entry_sessions = df.group_by('id').agg(pl.len().alias('count')).filter(pl.col('count') != 2)\n",
        "df_filtered = df.join(error_entry_sessions, on='id', how='anti')\n",
        "\n",
        "error_entry_sessions"
      ]
    },
    {
      "cell_type": "code",
      "execution_count": null,
      "id": "0232d8c9-1a97-4d0d-a0da-c8d681f2b082",
      "metadata": {
        "id": "0232d8c9-1a97-4d0d-a0da-c8d681f2b082",
        "outputId": "5303cf1a-12c0-4358-9793-d1025367d91e",
        "colab": {
          "base_uri": "https://localhost:8080/",
          "height": 634
        }
      },
      "outputs": [
        {
          "output_type": "execute_result",
          "data": {
            "text/plain": [
              "shape: (994, 6)\n",
              "┌────────────────┬────────────────┬────────────────┬────────────────┬───────────────┬──────────────┐\n",
              "│ id             ┆ name           ┆ email          ┆ join_time      ┆ leave_time    ┆ duration     │\n",
              "│ ---            ┆ ---            ┆ ---            ┆ ---            ┆ ---           ┆ ---          │\n",
              "│ str            ┆ str            ┆ str            ┆ datetime[μs,   ┆ datetime[μs,  ┆ duration[μs] │\n",
              "│                ┆                ┆                ┆ Asia/Ho_Chi_Mi ┆ Asia/Ho_Chi_M ┆              │\n",
              "│                ┆                ┆                ┆ nh]            ┆ inh]          ┆              │\n",
              "╞════════════════╪════════════════╪════════════════╪════════════════╪═══════════════╪══════════════╡\n",
              "│ 1e2baf55-a68f- ┆ Vu Duc Tam     ┆ Tam.VD236314@s ┆ 2025-03-07     ┆ 2025-03-07    ┆ 5m 8s        │\n",
              "│ 4706-aa1d-a0f0 ┆ 20236314       ┆ is.hust.edu.vn ┆ 10:17:03 +07   ┆ 10:22:11 +07  ┆              │\n",
              "│ d6…            ┆                ┆                ┆                ┆               ┆              │\n",
              "│ eaf3f8cc-6138- ┆ Le Dinh Long   ┆ Long.LD236222@ ┆ 2025-03-07     ┆ 2025-03-07    ┆ 31m 11s      │\n",
              "│ 4c94-8b53-e759 ┆ 20236222       ┆ sis.hust.edu.v ┆ 10:22:43 +07   ┆ 10:53:54 +07  ┆              │\n",
              "│ 73…            ┆                ┆ n              ┆                ┆               ┆              │\n",
              "│ cb21c683-c80b- ┆ Trieu Huyen    ┆ Trang.TH232333 ┆ 2025-03-07     ┆ 2025-03-07    ┆ 1h 4m 43s    │\n",
              "│ 4330-93d8-2f6c ┆ Trang 20232333 ┆ @sis.hust.edu. ┆ 10:06:31 +07   ┆ 11:11:14 +07  ┆              │\n",
              "│ a5…            ┆                ┆ vn             ┆                ┆               ┆              │\n",
              "│ 4bdddd6f-ea64- ┆ Tran Van Duy   ┆ Duy.TV222256@s ┆ 2025-03-07     ┆ 2025-03-07    ┆ 56m 5s       │\n",
              "│ 40a5-b1dd-a722 ┆ 20222256       ┆ is.hust.edu.vn ┆ 09:19:00 +07   ┆ 10:15:05 +07  ┆              │\n",
              "│ 82…            ┆                ┆                ┆                ┆               ┆              │\n",
              "│ b09c2350-4ef5- ┆ Nguyen Hong    ┆ Tan.NH228142@s ┆ 2025-03-07     ┆ 2025-03-07    ┆ 1m 33s       │\n",
              "│ 4d51-a2c4-765c ┆ Tan 20228142   ┆ is.hust.edu.vn ┆ 09:24:16 +07   ┆ 09:25:49 +07  ┆              │\n",
              "│ 91…            ┆                ┆                ┆                ┆               ┆              │\n",
              "│ …              ┆ …              ┆ …              ┆ …              ┆ …             ┆ …            │\n",
              "│ 9341c417-e0ad- ┆ Nguyen Ngoc    ┆ Tue.NNM221821@ ┆ 2025-03-07     ┆ 2025-03-07    ┆ 5m 43s       │\n",
              "│ 407b-93f4-1f4a ┆ Minh Tue       ┆ sis.hust.edu.v ┆ 09:21:29 +07   ┆ 09:27:12 +07  ┆              │\n",
              "│ c9…            ┆ 20221821       ┆ n              ┆                ┆               ┆              │\n",
              "│ a68eb6f1-562d- ┆ Do Dinh Sinh   ┆ Sinh.DD2418981 ┆ 2025-03-07     ┆ 2025-03-07    ┆ 1h 19m 13s   │\n",
              "│ 4ba5-9ce3-657a ┆ 202418981      ┆ @sis.hust.edu. ┆ 09:34:15 +07   ┆ 10:53:28 +07  ┆              │\n",
              "│ ec…            ┆                ┆ vn             ┆                ┆               ┆              │\n",
              "│ b95bbabc-0a5e- ┆ Nguyen Le Tu   ┆ Tu.NL2420325@s ┆ 2025-03-07     ┆ 2025-03-07    ┆ 12m 14s      │\n",
              "│ 4248-bd81-9ed8 ┆ 202420325      ┆ is.hust.edu.vn ┆ 09:35:12 +07   ┆ 09:47:26 +07  ┆              │\n",
              "│ d0…            ┆                ┆                ┆                ┆               ┆              │\n",
              "│ dd981ede-ce56- ┆ Cao Thanh Hung ┆ Hung.CT2416502 ┆ 2025-03-07     ┆ 2025-03-07    ┆ 7m 53s       │\n",
              "│ 4d5d-9088-3447 ┆ 202416502      ┆ @sis.hust.edu. ┆ 09:12:49 +07   ┆ 09:20:42 +07  ┆              │\n",
              "│ 98…            ┆                ┆ vn             ┆                ┆               ┆              │\n",
              "│ 79d502bb-2ecc- ┆ Nguyen Quy Duy ┆ Duy.NQ235065@s ┆ 2025-03-07     ┆ 2025-03-07    ┆ 2h 1m 6s     │\n",
              "│ 4bf6-90ba-17ee ┆ 20235065       ┆ is.hust.edu.vn ┆ 08:52:58 +07   ┆ 10:54:04 +07  ┆              │\n",
              "│ 6b…            ┆                ┆                ┆                ┆               ┆              │\n",
              "└────────────────┴────────────────┴────────────────┴────────────────┴───────────────┴──────────────┘"
            ],
            "text/html": [
              "<div><style>\n",
              ".dataframe > thead > tr,\n",
              ".dataframe > tbody > tr {\n",
              "  text-align: right;\n",
              "  white-space: pre-wrap;\n",
              "}\n",
              "</style>\n",
              "<small>shape: (994, 6)</small><table border=\"1\" class=\"dataframe\"><thead><tr><th>id</th><th>name</th><th>email</th><th>join_time</th><th>leave_time</th><th>duration</th></tr><tr><td>str</td><td>str</td><td>str</td><td>datetime[μs, Asia/Ho_Chi_Minh]</td><td>datetime[μs, Asia/Ho_Chi_Minh]</td><td>duration[μs]</td></tr></thead><tbody><tr><td>&quot;1e2baf55-a68f-4706-aa1d-a0f0d6…</td><td>&quot;Vu Duc Tam 20236314&quot;</td><td>&quot;Tam.VD236314@sis.hust.edu.vn&quot;</td><td>2025-03-07 10:17:03 +07</td><td>2025-03-07 10:22:11 +07</td><td>5m 8s</td></tr><tr><td>&quot;eaf3f8cc-6138-4c94-8b53-e75973…</td><td>&quot;Le Dinh Long 20236222&quot;</td><td>&quot;Long.LD236222@sis.hust.edu.vn&quot;</td><td>2025-03-07 10:22:43 +07</td><td>2025-03-07 10:53:54 +07</td><td>31m 11s</td></tr><tr><td>&quot;cb21c683-c80b-4330-93d8-2f6ca5…</td><td>&quot;Trieu Huyen Trang 20232333&quot;</td><td>&quot;Trang.TH232333@sis.hust.edu.vn&quot;</td><td>2025-03-07 10:06:31 +07</td><td>2025-03-07 11:11:14 +07</td><td>1h 4m 43s</td></tr><tr><td>&quot;4bdddd6f-ea64-40a5-b1dd-a72282…</td><td>&quot;Tran Van Duy 20222256&quot;</td><td>&quot;Duy.TV222256@sis.hust.edu.vn&quot;</td><td>2025-03-07 09:19:00 +07</td><td>2025-03-07 10:15:05 +07</td><td>56m 5s</td></tr><tr><td>&quot;b09c2350-4ef5-4d51-a2c4-765c91…</td><td>&quot;Nguyen Hong Tan 20228142&quot;</td><td>&quot;Tan.NH228142@sis.hust.edu.vn&quot;</td><td>2025-03-07 09:24:16 +07</td><td>2025-03-07 09:25:49 +07</td><td>1m 33s</td></tr><tr><td>&hellip;</td><td>&hellip;</td><td>&hellip;</td><td>&hellip;</td><td>&hellip;</td><td>&hellip;</td></tr><tr><td>&quot;9341c417-e0ad-407b-93f4-1f4ac9…</td><td>&quot;Nguyen Ngoc Minh Tue 20221821&quot;</td><td>&quot;Tue.NNM221821@sis.hust.edu.vn&quot;</td><td>2025-03-07 09:21:29 +07</td><td>2025-03-07 09:27:12 +07</td><td>5m 43s</td></tr><tr><td>&quot;a68eb6f1-562d-4ba5-9ce3-657aec…</td><td>&quot;Do Dinh Sinh 202418981&quot;</td><td>&quot;Sinh.DD2418981@sis.hust.edu.vn&quot;</td><td>2025-03-07 09:34:15 +07</td><td>2025-03-07 10:53:28 +07</td><td>1h 19m 13s</td></tr><tr><td>&quot;b95bbabc-0a5e-4248-bd81-9ed8d0…</td><td>&quot;Nguyen Le Tu 202420325&quot;</td><td>&quot;Tu.NL2420325@sis.hust.edu.vn&quot;</td><td>2025-03-07 09:35:12 +07</td><td>2025-03-07 09:47:26 +07</td><td>12m 14s</td></tr><tr><td>&quot;dd981ede-ce56-4d5d-9088-344798…</td><td>&quot;Cao Thanh Hung 202416502&quot;</td><td>&quot;Hung.CT2416502@sis.hust.edu.vn&quot;</td><td>2025-03-07 09:12:49 +07</td><td>2025-03-07 09:20:42 +07</td><td>7m 53s</td></tr><tr><td>&quot;79d502bb-2ecc-4bf6-90ba-17ee6b…</td><td>&quot;Nguyen Quy Duy 20235065&quot;</td><td>&quot;Duy.NQ235065@sis.hust.edu.vn&quot;</td><td>2025-03-07 08:52:58 +07</td><td>2025-03-07 10:54:04 +07</td><td>2h 1m 6s</td></tr></tbody></table></div>"
            ]
          },
          "metadata": {},
          "execution_count": 59
        }
      ],
      "source": [
        "sessions = (\n",
        "    df_filtered.sort(['id', 'timestamp'])\n",
        "    .group_by('id')\n",
        "    .agg(\n",
        "        pl.col('name').first().alias('name'),\n",
        "        pl.col('email').first().alias('email'),\n",
        "        pl.col('timestamp').filter(pl.col('action') == 'Joined').first().alias('join_time'),\n",
        "        pl.col('timestamp').filter(pl.col('action') == 'Left').first().alias('leave_time')\n",
        "    )\n",
        "    .with_columns(\n",
        "        (pl.col('leave_time') - pl.col('join_time')).alias('duration')\n",
        "    )\n",
        ")\n",
        "\n",
        "sessions"
      ]
    },
    {
      "cell_type": "code",
      "execution_count": null,
      "id": "ae7c823e-b15a-4f4c-8571-223ac13e4479",
      "metadata": {
        "id": "ae7c823e-b15a-4f4c-8571-223ac13e4479"
      },
      "outputs": [],
      "source": [
        "def merge_intervals(intervals):\n",
        "    # Sort intervals by start time\n",
        "    sorted_intervals = sorted(intervals, key=lambda x: x['join_time'])\n",
        "\n",
        "    if not sorted_intervals:\n",
        "        return timedelta(seconds=0)\n",
        "\n",
        "    merged = [sorted_intervals[0]]\n",
        "    for current in sorted_intervals[1:]:\n",
        "        previous = merged[-1]\n",
        "        if current['join_time'] <= previous['leave_time']:\n",
        "            merged[-1] = {\n",
        "                'join_time': previous['join_time'],\n",
        "                'leave_time': max(previous['leave_time'], current['leave_time'])\n",
        "            }\n",
        "        else:\n",
        "            merged.append(current)\n",
        "\n",
        "    # Calculate total duration using timedelta objects\n",
        "    total_seconds = 0\n",
        "    for interval in merged:\n",
        "        start = interval['join_time']\n",
        "        end = interval['leave_time']\n",
        "\n",
        "        # If ending_datetime is specified and is before the end of this interval,\n",
        "        # truncate the interval at ending_datetime\n",
        "        if ending_datetime is not None and end > ending_datetime:\n",
        "            end = ending_datetime\n",
        "\n",
        "        # If ending_datetime is before the start of this interval, skip the whole calculation\n",
        "        if ending_datetime is not None and start >= ending_datetime:\n",
        "            continue\n",
        "\n",
        "        total_seconds += (end - start).total_seconds()\n",
        "\n",
        "    return timedelta(seconds=total_seconds)"
      ]
    },
    {
      "cell_type": "code",
      "execution_count": null,
      "id": "9b6bfd3f-c5c1-40f4-948a-e7b17b93a09b",
      "metadata": {
        "id": "9b6bfd3f-c5c1-40f4-948a-e7b17b93a09b"
      },
      "outputs": [],
      "source": [
        "result = (\n",
        "    # Group by email to process each person\n",
        "    sessions\n",
        "    .group_by('email')\n",
        "    .agg(\n",
        "        pl.col('name').first().alias('name'),\n",
        "\n",
        "        # Output all intervals as struct array\n",
        "        pl.struct(['join_time', 'leave_time']).alias('intervals'),\n",
        "        pl.concat_str([\n",
        "            pl.col('join_time').dt.time().cast(pl.Utf8),\n",
        "            pl.lit(' - '),\n",
        "            pl.col('leave_time').dt.time().cast(pl.Utf8)\n",
        "        ]).alias('formatted_intervals')\n",
        "    )\n",
        "    .with_columns(\n",
        "        pl.col('intervals').map_elements(merge_intervals, return_dtype=pl.Duration).alias('total_non_overlapping_duration'),\n",
        "        pl.col('formatted_intervals')\n",
        "            .list.eval(pl.format('<{}>', pl.element()))\n",
        "            .list.join('')\n",
        "    )\n",
        "    .rename({'formatted_intervals':'formatted_intervals (UTC+7)'})\n",
        "    .sort('total_non_overlapping_duration')\n",
        ")"
      ]
    },
    {
      "cell_type": "code",
      "execution_count": 83,
      "id": "3684c615-7fd6-4512-a5cf-4383847e308b",
      "metadata": {
        "id": "3684c615-7fd6-4512-a5cf-4383847e308b",
        "outputId": "5e5ca8ac-ccf2-43fa-b1c6-fb7141ae5e1a",
        "colab": {
          "base_uri": "https://localhost:8080/",
          "height": 443
        }
      },
      "outputs": [
        {
          "output_type": "execute_result",
          "data": {
            "text/plain": [
              "shape: (613, 5)\n",
              "┌────────────────────────┬───────────────────────┬───────────────────────┬────────────┬────────────┐\n",
              "│ Email                  ┆ Name                  ┆ Sessions (UTC+7)      ┆ Total time ┆ Total time │\n",
              "│ ---                    ┆ ---                   ┆ ---                   ┆ (seconds)  ┆ ---        │\n",
              "│ str                    ┆ str                   ┆ str                   ┆ ---        ┆ str        │\n",
              "│                        ┆                       ┆                       ┆ i64        ┆            │\n",
              "╞════════════════════════╪═══════════════════════╪═══════════════════════╪════════════╪════════════╡\n",
              "│ Anh.NN235013@sis.hust. ┆ Nguyen Ngoc Anh       ┆ <09:32:24 - 09:32:55> ┆ 31         ┆ 00:00:31   │\n",
              "│ edu.vn                 ┆ 20235013              ┆                       ┆            ┆            │\n",
              "│ Thanh.HX236321@sis.hus ┆ Ha Xuan Thanh         ┆ <10:36:01 - 10:36:39> ┆ 38         ┆ 00:00:38   │\n",
              "│ t.edu.vn               ┆ 20236321              ┆                       ┆            ┆            │\n",
              "│ Anh.HHT2417284@sis.hus ┆ Ha Huy Tuan Anh       ┆ <09:19:48 - 09:20:27> ┆ 39         ┆ 00:00:39   │\n",
              "│ t.edu.vn               ┆ 202417284             ┆                       ┆            ┆            │\n",
              "│ Son.BT2421574@sis.hust ┆ Bui Thanh Son         ┆ <09:37:49 - 09:38:30> ┆ 41         ┆ 00:00:41   │\n",
              "│ .edu.vn                ┆ 202421574             ┆                       ┆            ┆            │\n",
              "│ Ky.TM222574@sis.hust.e ┆ Tran Minh Ky 20222574 ┆ <09:01:51 - 09:02:33> ┆ 42         ┆ 00:00:42   │\n",
              "│ du.vn                  ┆                       ┆                       ┆            ┆            │\n",
              "│ …                      ┆ …                     ┆ …                     ┆ …          ┆ …          │\n",
              "│ Ngan.LTH234509@sis.hus ┆ Le Thi Hong Ngan      ┆ <08:54:24 -           ┆ 7034       ┆ 01:57:14   │\n",
              "│ t.edu.vn               ┆ 20234509              ┆ 09:36:53><09:37:15…   ┆            ┆            │\n",
              "│ Hung.VS2417128@sis.hus ┆ Vu Sinh Hung          ┆ <08:53:24 -           ┆ 7060       ┆ 01:57:40   │\n",
              "│ t.edu.vn               ┆ 202417128             ┆ 08:54:05><08:54:16…   ┆            ┆            │\n",
              "│ Duy.NQ235065@sis.hust. ┆ Nguyen Quy Duy        ┆ <08:52:58 - 10:54:04> ┆ 7142       ┆ 01:59:02   │\n",
              "│ edu.vn                 ┆ 20235065              ┆                       ┆            ┆            │\n",
              "│ Huyen.NT223148@sis.hus ┆ Nguyen Thanh Huyen    ┆ <08:51:35 - 10:58:08> ┆ 7225       ┆ 02:00:25   │\n",
              "│ t.edu.vn               ┆ 20223148              ┆                       ┆            ┆            │\n",
              "│ Dung.DM236508@sis.hust ┆ Duong Manh Dung       ┆ <08:39:17 -           ┆ 7963       ┆ 02:12:43   │\n",
              "│ .edu.vn                ┆ 20236508              ┆ 10:55:34><08:43:18…   ┆            ┆            │\n",
              "└────────────────────────┴───────────────────────┴───────────────────────┴────────────┴────────────┘"
            ],
            "text/html": [
              "<div><style>\n",
              ".dataframe > thead > tr,\n",
              ".dataframe > tbody > tr {\n",
              "  text-align: right;\n",
              "  white-space: pre-wrap;\n",
              "}\n",
              "</style>\n",
              "<small>shape: (613, 5)</small><table border=\"1\" class=\"dataframe\"><thead><tr><th>Email</th><th>Name</th><th>Sessions (UTC+7)</th><th>Total time (seconds)</th><th>Total time</th></tr><tr><td>str</td><td>str</td><td>str</td><td>i64</td><td>str</td></tr></thead><tbody><tr><td>&quot;Anh.NN235013@sis.hust.edu.vn&quot;</td><td>&quot;Nguyen Ngoc Anh 20235013&quot;</td><td>&quot;&lt;09:32:24 - 09:32:55&gt;&quot;</td><td>31</td><td>&quot;00:00:31&quot;</td></tr><tr><td>&quot;Thanh.HX236321@sis.hust.edu.vn&quot;</td><td>&quot;Ha Xuan Thanh 20236321&quot;</td><td>&quot;&lt;10:36:01 - 10:36:39&gt;&quot;</td><td>38</td><td>&quot;00:00:38&quot;</td></tr><tr><td>&quot;Anh.HHT2417284@sis.hust.edu.vn&quot;</td><td>&quot;Ha Huy Tuan Anh 202417284&quot;</td><td>&quot;&lt;09:19:48 - 09:20:27&gt;&quot;</td><td>39</td><td>&quot;00:00:39&quot;</td></tr><tr><td>&quot;Son.BT2421574@sis.hust.edu.vn&quot;</td><td>&quot;Bui Thanh Son 202421574&quot;</td><td>&quot;&lt;09:37:49 - 09:38:30&gt;&quot;</td><td>41</td><td>&quot;00:00:41&quot;</td></tr><tr><td>&quot;Ky.TM222574@sis.hust.edu.vn&quot;</td><td>&quot;Tran Minh Ky 20222574&quot;</td><td>&quot;&lt;09:01:51 - 09:02:33&gt;&quot;</td><td>42</td><td>&quot;00:00:42&quot;</td></tr><tr><td>&hellip;</td><td>&hellip;</td><td>&hellip;</td><td>&hellip;</td><td>&hellip;</td></tr><tr><td>&quot;Ngan.LTH234509@sis.hust.edu.vn&quot;</td><td>&quot;Le Thi Hong Ngan 20234509&quot;</td><td>&quot;&lt;08:54:24 - 09:36:53&gt;&lt;09:37:15…</td><td>7034</td><td>&quot;01:57:14&quot;</td></tr><tr><td>&quot;Hung.VS2417128@sis.hust.edu.vn&quot;</td><td>&quot;Vu Sinh Hung 202417128&quot;</td><td>&quot;&lt;08:53:24 - 08:54:05&gt;&lt;08:54:16…</td><td>7060</td><td>&quot;01:57:40&quot;</td></tr><tr><td>&quot;Duy.NQ235065@sis.hust.edu.vn&quot;</td><td>&quot;Nguyen Quy Duy 20235065&quot;</td><td>&quot;&lt;08:52:58 - 10:54:04&gt;&quot;</td><td>7142</td><td>&quot;01:59:02&quot;</td></tr><tr><td>&quot;Huyen.NT223148@sis.hust.edu.vn&quot;</td><td>&quot;Nguyen Thanh Huyen 20223148&quot;</td><td>&quot;&lt;08:51:35 - 10:58:08&gt;&quot;</td><td>7225</td><td>&quot;02:00:25&quot;</td></tr><tr><td>&quot;Dung.DM236508@sis.hust.edu.vn&quot;</td><td>&quot;Duong Manh Dung 20236508&quot;</td><td>&quot;&lt;08:39:17 - 10:55:34&gt;&lt;08:43:18…</td><td>7963</td><td>&quot;02:12:43&quot;</td></tr></tbody></table></div>"
            ]
          },
          "metadata": {},
          "execution_count": 83
        }
      ],
      "source": [
        "result_formatted = (\n",
        "    result\n",
        "    .with_columns(\n",
        "        (pl.col(\"total_non_overlapping_duration\") / 1_000_000).cast(pl.Int64).alias(\"duration_seconds\"),\n",
        "    )\n",
        "    .with_columns(\n",
        "        (\n",
        "          (pl.col(\"duration_seconds\") // 3600).cast(pl.Utf8).str.zfill(2) + \":\" +\n",
        "          ((pl.col(\"duration_seconds\") % 3600) // 60).cast(pl.Utf8).str.zfill(2) + \":\" +\n",
        "          (pl.col(\"duration_seconds\") % 60).cast(pl.Utf8).str.zfill(2)\n",
        "        ).alias(\"formatted_time\")\n",
        "    )\n",
        "    .drop(['intervals', 'total_non_overlapping_duration'])\n",
        "    .rename({\n",
        "        'email': 'Email',\n",
        "        'name': 'Name',\n",
        "        'formatted_intervals (UTC+7)': 'Sessions (UTC+7)',\n",
        "        'duration_seconds': 'Total time (seconds)',\n",
        "        'formatted_time': 'Total time',\n",
        "    })\n",
        ")\n",
        "\n",
        "result_formatted"
      ]
    },
    {
      "cell_type": "code",
      "execution_count": 84,
      "id": "733c7ef0-138d-4507-a65e-6e8c3474dd47",
      "metadata": {
        "id": "733c7ef0-138d-4507-a65e-6e8c3474dd47"
      },
      "outputs": [],
      "source": [
        "result_formatted.write_csv(f\"Tính_TG_{ngay}.csv\")"
      ]
    },
    {
      "cell_type": "code",
      "execution_count": null,
      "id": "0b48e49f-aebb-4361-ba0f-04cd97087d66",
      "metadata": {
        "id": "0b48e49f-aebb-4361-ba0f-04cd97087d66"
      },
      "outputs": [],
      "source": []
    }
  ],
  "metadata": {
    "kernelspec": {
      "display_name": "Python 3 (ipykernel)",
      "language": "python",
      "name": "python3"
    },
    "language_info": {
      "codemirror_mode": {
        "name": "ipython",
        "version": 3
      },
      "file_extension": ".py",
      "mimetype": "text/x-python",
      "name": "python",
      "nbconvert_exporter": "python",
      "pygments_lexer": "ipython3",
      "version": "3.13.2"
    },
    "colab": {
      "provenance": []
    }
  },
  "nbformat": 4,
  "nbformat_minor": 5
}